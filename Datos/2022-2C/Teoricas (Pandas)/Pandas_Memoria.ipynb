{
  "nbformat": 4,
  "nbformat_minor": 0,
  "metadata": {
    "colab": {
      "provenance": []
    },
    "kernelspec": {
      "name": "python3",
      "display_name": "Python 3"
    },
    "language_info": {
      "name": "python"
    }
  },
  "cells": [
    {
      "cell_type": "code",
      "execution_count": 1,
      "metadata": {
        "id": "pSrTrGD36y00"
      },
      "outputs": [],
      "source": [
        "import pandas as pd\n",
        "\n",
        "df = pd.DataFrame([\n",
        "    [\n",
        "        str(x),str(x%3),str(x//1000),f\"ADE{str(x)[-1]}\"\n",
        "    ]\n",
        "    for x in range(10000000)\n",
        "])"
      ]
    },
    {
      "cell_type": "markdown",
      "source": [
        "El DataFrame que creamos vemos que al ser todo cadenas ocupa 305 MB"
      ],
      "metadata": {
        "id": "iwGmSAipggI7"
      }
    },
    {
      "cell_type": "code",
      "source": [
        "df.info()"
      ],
      "metadata": {
        "colab": {
          "base_uri": "https://localhost:8080/"
        },
        "id": "Rq5zzN5KCSuv",
        "outputId": "2c02fbbc-bbba-4388-ec86-1d235a6476b1"
      },
      "execution_count": 2,
      "outputs": [
        {
          "output_type": "stream",
          "name": "stdout",
          "text": [
            "<class 'pandas.core.frame.DataFrame'>\n",
            "RangeIndex: 10000000 entries, 0 to 9999999\n",
            "Data columns (total 4 columns):\n",
            " #   Column  Dtype \n",
            "---  ------  ----- \n",
            " 0   0       object\n",
            " 1   1       object\n",
            " 2   2       object\n",
            " 3   3       object\n",
            "dtypes: object(4)\n",
            "memory usage: 305.2+ MB\n"
          ]
        }
      ]
    },
    {
      "cell_type": "markdown",
      "source": [
        "Si usamos `memory_usage` vemos el consumo en bytes no solo de cada columna (que en este caso todas consumen lo mismo) sino que tambien del indice. El indice influye sobre el tamaño final del DataFrame, en general va a importar poco, pero si hacemos las cosas mal, va a consumir mas recursos"
      ],
      "metadata": {
        "id": "WyIZRd6SgyeW"
      }
    },
    {
      "cell_type": "code",
      "source": [
        "df.memory_usage()"
      ],
      "metadata": {
        "colab": {
          "base_uri": "https://localhost:8080/"
        },
        "id": "dso5fFaqCbLQ",
        "outputId": "b5e5219a-bbb4-44db-f06f-09b1bb41d553"
      },
      "execution_count": 3,
      "outputs": [
        {
          "output_type": "execute_result",
          "data": {
            "text/plain": [
              "Index         128\n",
              "0        80000000\n",
              "1        80000000\n",
              "2        80000000\n",
              "3        80000000\n",
              "dtype: int64"
            ]
          },
          "metadata": {},
          "execution_count": 3
        }
      ]
    },
    {
      "cell_type": "markdown",
      "source": [
        "Podemos ver que cambiando los elementos de la lista a int no nos cambia nada, porque sigue siendo una representacion de 64bits"
      ],
      "metadata": {
        "id": "LP4ojbc8hNLe"
      }
    },
    {
      "cell_type": "code",
      "source": [
        "df[0] = df[0].map(lambda x: int(x))\n",
        "df[1] = df[1].astype(int)\n",
        "df.memory_usage()"
      ],
      "metadata": {
        "id": "AG0M8DyNDhGW",
        "colab": {
          "base_uri": "https://localhost:8080/"
        },
        "outputId": "2088dcce-8ef7-4a37-be72-a9b60892d8a5"
      },
      "execution_count": 4,
      "outputs": [
        {
          "output_type": "execute_result",
          "data": {
            "text/plain": [
              "Index         128\n",
              "0        80000000\n",
              "1        80000000\n",
              "2        80000000\n",
              "3        80000000\n",
              "dtype: int64"
            ]
          },
          "metadata": {},
          "execution_count": 4
        }
      ]
    },
    {
      "cell_type": "markdown",
      "source": [
        "En numpy podemos encontrar tipos de datos mas especificos. Por ejemplo, para la segunda columna, al tener valores del 0 al 2, puedo representarla con un entero de 8bits"
      ],
      "metadata": {
        "id": "84lKb98uhnxV"
      }
    },
    {
      "cell_type": "code",
      "source": [
        "import numpy as pd\n",
        "df[1] = df[1].astype(pd.int8)\n",
        "df.memory_usage()"
      ],
      "metadata": {
        "id": "ZqBG7CxdF4Zt",
        "colab": {
          "base_uri": "https://localhost:8080/"
        },
        "outputId": "2cf9ce1a-e101-4f82-c707-3d82b399488b"
      },
      "execution_count": 5,
      "outputs": [
        {
          "output_type": "execute_result",
          "data": {
            "text/plain": [
              "Index         128\n",
              "0        80000000\n",
              "1        10000000\n",
              "2        80000000\n",
              "3        80000000\n",
              "dtype: int64"
            ]
          },
          "metadata": {},
          "execution_count": 5
        }
      ]
    },
    {
      "cell_type": "markdown",
      "source": [
        "Notar que con este simple cambio, se redujo a 1/8 el uso de memoria de la columna. Elegir un tipo mas especifico tiene muchos beneficios"
      ],
      "metadata": {
        "id": "0JYBnajFh6ap"
      }
    },
    {
      "cell_type": "code",
      "source": [
        "df[2] = df[2].astype(pd.int16)\n",
        "df.memory_usage()"
      ],
      "metadata": {
        "id": "m7Hb1yfoGnqd",
        "colab": {
          "base_uri": "https://localhost:8080/"
        },
        "outputId": "a67075b2-73b5-422e-ac04-d0f91d4bd8fb"
      },
      "execution_count": 6,
      "outputs": [
        {
          "output_type": "execute_result",
          "data": {
            "text/plain": [
              "Index         128\n",
              "0        80000000\n",
              "1        10000000\n",
              "2        20000000\n",
              "3        80000000\n",
              "dtype: int64"
            ]
          },
          "metadata": {},
          "execution_count": 6
        }
      ]
    },
    {
      "cell_type": "markdown",
      "source": [
        "La cuarta columna por su parte, no puede ser representada como un tipo de dato entero, porque son cadenas. No obstante, si lo puedo convertir a una columna de tipo categoria, lo que genera practicamente el mismo efecto"
      ],
      "metadata": {
        "id": "dywwlFhPiYcP"
      }
    },
    {
      "cell_type": "code",
      "source": [
        "df[3] = df[3].astype(\"category\")\n",
        "df[3]"
      ],
      "metadata": {
        "id": "_yeH8GR0Gy8k",
        "colab": {
          "base_uri": "https://localhost:8080/"
        },
        "outputId": "a4e9220f-e465-488f-8fe3-ad4b4a16c93a"
      },
      "execution_count": 7,
      "outputs": [
        {
          "output_type": "execute_result",
          "data": {
            "text/plain": [
              "0          ADE0\n",
              "1          ADE1\n",
              "2          ADE2\n",
              "3          ADE3\n",
              "4          ADE4\n",
              "           ... \n",
              "9999995    ADE5\n",
              "9999996    ADE6\n",
              "9999997    ADE7\n",
              "9999998    ADE8\n",
              "9999999    ADE9\n",
              "Name: 3, Length: 10000000, dtype: category\n",
              "Categories (10, object): ['ADE0', 'ADE1', 'ADE2', 'ADE3', ..., 'ADE6', 'ADE7', 'ADE8', 'ADE9']"
            ]
          },
          "metadata": {},
          "execution_count": 7
        }
      ]
    },
    {
      "cell_type": "markdown",
      "source": [
        "Notar que al ver la columna, ademas de los datos, ahora tenemos una tabla de traduccion. Esa tabla de traduccion tambien ocupa espacio. El uso lo podemos sacar de lo que nos muestra `memory_usage`. Al ser solo 10 valores, puede codificarlos en enteros de 8bits, por eso la columna deberia utilizar lo mismo que la segunda. Pero como tambien tiene que guardar el indice, utiliza 380 bytes mas"
      ],
      "metadata": {
        "id": "nSeNIqYIiux5"
      }
    },
    {
      "cell_type": "code",
      "source": [
        "df.memory_usage()"
      ],
      "metadata": {
        "id": "DNfdrtzLHd2J",
        "outputId": "9c7e2d63-d1ca-4de0-d3d8-427769c995bd",
        "colab": {
          "base_uri": "https://localhost:8080/"
        }
      },
      "execution_count": 8,
      "outputs": [
        {
          "output_type": "execute_result",
          "data": {
            "text/plain": [
              "Index         128\n",
              "0        80000000\n",
              "1        10000000\n",
              "2        20000000\n",
              "3        10000380\n",
              "dtype: int64"
            ]
          },
          "metadata": {},
          "execution_count": 8
        }
      ]
    },
    {
      "cell_type": "code",
      "source": [],
      "metadata": {
        "id": "_mHHkBNZHjL9"
      },
      "execution_count": null,
      "outputs": []
    }
  ]
}