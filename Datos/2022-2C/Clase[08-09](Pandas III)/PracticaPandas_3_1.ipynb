{
  "nbformat": 4,
  "nbformat_minor": 0,
  "metadata": {
    "colab": {
      "provenance": []
    },
    "kernelspec": {
      "name": "python3",
      "display_name": "Python 3"
    },
    "language_info": {
      "name": "python"
    }
  },
  "cells": [
    {
      "cell_type": "code",
      "execution_count": null,
      "metadata": {
        "id": "wfzO4vVuDE9-"
      },
      "outputs": [],
      "source": [
        "import pandas as pd"
      ]
    },
    {
      "cell_type": "markdown",
      "source": [
        "No todos los csv tienen los campos separados por `,`. En caso de que requiera utilizar otro separador, hay que indicarselo con `sep`"
      ],
      "metadata": {
        "id": "hEFhaOIFhw7i"
      }
    },
    {
      "cell_type": "code",
      "source": [
        "pd.read_csv(\"/content/compras_caba_2016-2021.csv\",sep=\";\")"
      ],
      "metadata": {
        "id": "ALMULblbOSAs"
      },
      "execution_count": null,
      "outputs": []
    },
    {
      "cell_type": "markdown",
      "source": [
        "Por defecto, pandas utiliza el encoding utf8 para abrir los archivos. En algunos casos, dependiendo del origen, tenemos que utilizar un encodig distinto porque hay caracteres que sino no va a poder interpretar"
      ],
      "metadata": {
        "id": "7KV3TQaTjfvG"
      }
    },
    {
      "cell_type": "code",
      "source": [
        "distribucion = pd.read_csv(\"distribucion-insumos-salud-sexual-y-reproductiva.csv\",sep=\";\",encoding = 'ISO-8859-1')"
      ],
      "metadata": {
        "id": "uEHSS2FqQMqL"
      },
      "execution_count": null,
      "outputs": []
    },
    {
      "cell_type": "markdown",
      "source": [
        "Si bien los datos aplicando alguna traduccion en los nombres podria unirlo al dataset anterior, se ve que hay alguna incongruencia entre los datos, y por tanto no tendria sentido analizarlo"
      ],
      "metadata": {
        "id": "z3xqLVgqnHsQ"
      }
    },
    {
      "cell_type": "code",
      "source": [
        "distribucion"
      ],
      "metadata": {
        "id": "yRHjuK3ZS31R"
      },
      "execution_count": null,
      "outputs": []
    },
    {
      "cell_type": "markdown",
      "source": [
        "En este caso, si aplico stack directamente para pasar a una representacion por fila (y asi evitar tener una matriz dispersa), la columna de insumos va a pasar tambien al indice por fila, haciendonos perder la relacion insumo-año. Primero entonces, tengo que mover la columna al indice"
      ],
      "metadata": {
        "id": "9LbqHW_aj4tG"
      }
    },
    {
      "cell_type": "code",
      "source": [
        "stacked = distribucion.set_index(\"INSUMOS\").stack()"
      ],
      "metadata": {
        "id": "d4MMaCbtQ2pi"
      },
      "execution_count": null,
      "outputs": []
    },
    {
      "cell_type": "markdown",
      "source": [
        "Despues de aplicar stack, el dataframe pasa a ser una serie al perder el indice por columna. Aun asi, puedo acceder a los datos por el indice por fila utilizando loc"
      ],
      "metadata": {
        "id": "Xeye85AOlD40"
      }
    },
    {
      "cell_type": "code",
      "source": [
        "stacked.loc[\"IMPLANTES\"]"
      ],
      "metadata": {
        "id": "5CMTz8LSSM1d"
      },
      "execution_count": null,
      "outputs": []
    },
    {
      "cell_type": "code",
      "source": [
        "df_stacked = stacked.to_frame()"
      ],
      "metadata": {
        "id": "79OhuwaVTC8Y"
      },
      "execution_count": null,
      "outputs": []
    },
    {
      "cell_type": "code",
      "source": [
        "df_stacked.info()"
      ],
      "metadata": {
        "id": "MdyV5WrFTyX2"
      },
      "execution_count": null,
      "outputs": []
    },
    {
      "cell_type": "code",
      "source": [
        "distribucion.info()"
      ],
      "metadata": {
        "id": "4xJx7-Q9UGEu"
      },
      "execution_count": null,
      "outputs": []
    },
    {
      "cell_type": "markdown",
      "source": [
        "Parece poco intuitivo, pero el uso de memoria es mayor en la matriz dispersa (que tiene que tener celdas con nans) que la representacion mas compacta. Esto se debe a que el indice ahora ocupa mucho mas espacio al tener que mantener los elementos y la tabla de traduccion. \n",
        "\n",
        "Podemos ver que si reseteamos los indices y transformamos las columnas a categorias, el uso de memoria es igual a la version con multiindice. "
      ],
      "metadata": {
        "id": "I67fpCzPlZFm"
      }
    },
    {
      "cell_type": "code",
      "source": [
        "reset = df_stacked.reset_index()"
      ],
      "metadata": {
        "id": "AMaYqlpbULo4"
      },
      "execution_count": null,
      "outputs": []
    },
    {
      "cell_type": "code",
      "source": [
        "reset.INSUMOS = reset.INSUMOS.astype(\"category\")\n",
        "reset.level_1 = reset.level_1.astype(\"category\")\n",
        "reset"
      ],
      "metadata": {
        "id": "c1ogiIUHUeFj"
      },
      "execution_count": null,
      "outputs": []
    },
    {
      "cell_type": "code",
      "source": [
        "reset.info()"
      ],
      "metadata": {
        "id": "upNLRkv4UudU"
      },
      "execution_count": null,
      "outputs": []
    },
    {
      "cell_type": "markdown",
      "source": [
        "Si revisamos una de las columnas que son categoricas, vemos que pandas nos muestra no solo los datos, sino la tabla de traduccion que utiliza para poder comprimir los datos originales. Notar que es una lista de python, entonces los datos los puede comprimir a enteros, y el tamaño del entero (int8/16/32/64) va a depender de la cantidad de datos unicos; haciendo que a mayor cantidad no solo aumente el uso de memoria por la tabla de traduccion sino porque tiene que utilizar un tipo de dato mas grande para reprensentar los elementos"
      ],
      "metadata": {
        "id": "7APSKoxKmLVz"
      }
    },
    {
      "cell_type": "code",
      "source": [
        "reset.INSUMOS"
      ],
      "metadata": {
        "id": "SS6_yOp-VA3R"
      },
      "execution_count": null,
      "outputs": []
    }
  ]
}