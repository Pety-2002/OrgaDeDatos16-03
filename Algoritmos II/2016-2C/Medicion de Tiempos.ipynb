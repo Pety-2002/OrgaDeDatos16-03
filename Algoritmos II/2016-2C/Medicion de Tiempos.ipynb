{
 "cells": [
  {
   "cell_type": "code",
   "execution_count": 8,
   "metadata": {
    "collapsed": false
   },
   "outputs": [
    {
     "name": "stdout",
     "output_type": "stream",
     "text": []
    }
   ],
   "source": [
    "gcc medicion.c --std=c99 -o MedicionTiempos -D ELEMENTOS=\"1000000\""
   ]
  },
  {
   "cell_type": "code",
   "execution_count": 9,
   "metadata": {
    "collapsed": false
   },
   "outputs": [
    {
     "name": "stdout",
     "output_type": "stream",
     "text": [
      "\r\n",
      "Busqueda binaria\r\n",
      "1 , 1 -> 0.0000\r\n",
      "10 , 1 -> 0.0000\r\n",
      "100 , 1 -> 0.0000\r\n",
      "1000 , 1 -> 0.0000\r\n",
      "10000 , 1 -> 0.0000\r\n",
      "100000 , 0 -> 0.0000\r\n",
      "\r\n",
      "Buscar Maximo\r\n",
      "1 , 0 -> 0.0000\r\n",
      "10 , 0 -> 0.0000\r\n",
      "100 , 0 -> 0.0000\r\n",
      "1000 , 2 -> 0.0000\r\n",
      "10000 , 25 -> 0.0000\r\n",
      "100000 , 246 -> 0.0000\r\n",
      "\r\n",
      "Ordenar Merge\r\n",
      "1 , 0 -> 0.0000\r\n",
      "10 , 1 -> 0.0000\r\n",
      "100 , 8 -> 0.0000\r\n",
      "1000 , 108 -> 0.0000\r\n",
      "10000 , 1356 -> 0.0000\r\n",
      "100000 , 15769 -> 0.0000\r\n",
      "\r\n",
      "Ordenar Seleccion\r\n",
      "1 , 0 -> 0.0000\r\n",
      "10 , 0 -> 0.0000\r\n",
      "100 , 17 -> 0.0000\r\n",
      "1000 , 1365 -> 0.0000\r\n",
      "10000 , 125879 -> 0.0000\r\n",
      "100000 , 12521620 -> 12.0000\r\n"
     ]
    }
   ],
   "source": [
    "./MedicionTiempos"
   ]
  },
  {
   "cell_type": "code",
   "execution_count": null,
   "metadata": {
    "collapsed": true
   },
   "outputs": [],
   "source": []
  }
 ],
 "metadata": {
  "kernelspec": {
   "display_name": "Bash",
   "language": "bash",
   "name": "bash"
  },
  "language_info": {
   "codemirror_mode": "shell",
   "file_extension": ".sh",
   "mimetype": "text/x-sh",
   "name": "bash"
  }
 },
 "nbformat": 4,
 "nbformat_minor": 1
}
