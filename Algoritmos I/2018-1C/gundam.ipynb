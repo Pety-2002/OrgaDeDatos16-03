{
 "cells": [
  {
   "cell_type": "markdown",
   "metadata": {},
   "source": [
    "# Make A Gunpla"
   ]
  },
  {
   "cell_type": "code",
   "execution_count": 15,
   "metadata": {},
   "outputs": [],
   "source": [
    "from gundam import GunplaPart, Gun, MeleeWeapon"
   ]
  },
  {
   "cell_type": "code",
   "execution_count": 19,
   "metadata": {},
   "outputs": [],
   "source": [
    "turn_a_r_arm = GunplaPart(\"Turn A Gundam R Arm\",GunplaPart.R_ARM,5,9,60)\n",
    "turn_a_l_arm = GunplaPart(\"Turn A Gundam L Arm\",GunplaPart.L_ARM,5,9,60)\n",
    "turn_a_waist = GunplaPart(\"Turn A Gundam Waist\",GunplaPart.WAIST,10,10,20)\n",
    "turn_a_backpack = GunplaPart(\"Turn A Gundam Backpack\",GunplaPart.BACKPACK,1,1,700)\n",
    "turn_a_head = GunplaPart(\"Turn A Gundam Head\",GunplaPart.HEAD,1,1,20)\n",
    "turn_a_chest = GunplaPart(\"Turn A Gundam Chest\",GunplaPart.CHEST,5,20,200)"
   ]
  },
  {
   "cell_type": "code",
   "execution_count": 20,
   "metadata": {},
   "outputs": [
    {
     "name": "stdout",
     "output_type": "stream",
     "text": [
      "Gunpla Part: Turn A Gundam L Arm <(Left Arm)>\n"
     ]
    }
   ],
   "source": [
    "print(turn_a_l_arm)"
   ]
  },
  {
   "cell_type": "code",
   "execution_count": 21,
   "metadata": {},
   "outputs": [
    {
     "data": {
      "text/plain": [
       "Gunpla Part: Turn A Gundam L Arm <(Left Arm)>\n",
       "\t Size: 5\n",
       "\t Armor: 60\n",
       "\t Hitpoints: 225.0\n",
       "\t Weight: 9"
      ]
     },
     "execution_count": 21,
     "metadata": {},
     "output_type": "execute_result"
    }
   ],
   "source": [
    "turn_a_l_arm"
   ]
  },
  {
   "cell_type": "code",
   "execution_count": 22,
   "metadata": {},
   "outputs": [],
   "source": [
    "strike_noir_r_arm = GunplaPart(\"Strike Gundam E R Arm\",GunplaPart.R_ARM,5,11,50)\n",
    "strike_noir_l_arm = GunplaPart(\"Strike Gundam E L Arm\",GunplaPart.L_ARM,5,11,50)\n",
    "strike_noir_waist = GunplaPart(\"Strike Gundam E Waist\",GunplaPart.WAIST,10,10,20)\n",
    "strike_noir_backpack = GunplaPart(\"Noir Strike Backpack\",GunplaPart.BACKPACK,4,4,500)\n",
    "strike_noir_head = GunplaPart(\"Strike Gundam E Head\",GunplaPart.HEAD,2,1,25)\n",
    "strike_noir_chest = GunplaPart(\"Strike Gundam E Chest\",GunplaPart.CHEST,5,20,150)\n",
    "\n",
    "barbatos_r_arm = GunplaPart(\"Gundam Barbatos R Arm\",GunplaPart.R_ARM,5,3,90)\n",
    "barbatos_l_arm = GunplaPart(\"Gundam Barbatos L Arm\",GunplaPart.L_ARM,5,3,90)\n",
    "barbatos_waist = GunplaPart(\"Gundam Barbatos Waist\",GunplaPart.WAIST,10,9,200)\n",
    "barbatos_backpack = GunplaPart(\"Gundam Barbatos Backpack\",GunplaPart.BACKPACK,1,0,100)\n",
    "barbatos_head = GunplaPart(\"Gundam Barbatos Head\",GunplaPart.HEAD,1,1,15)\n",
    "barbatos_chest = GunplaPart(\"Gundam Barbatos Chest\",GunplaPart.CHEST,6,35,700)"
   ]
  },
  {
   "cell_type": "code",
   "execution_count": null,
   "metadata": {},
   "outputs": [],
   "source": [
    "beam_rifle = Gun(name=\"57mm High-energy Beam Rifle\",rounds=8,damage_per_shot=50)\n",
    "grenade_launcher = Gun(name=\"175mm Grenade Launcher\",rounds=1,damage_per_shot=500)\n",
    "beam_rifle = Gun(name=\"Beam Cannon\",rounds=2,damage_per_shot=100)\n",
    "\n",
    "beam_blade = MeleeWeapon(name=\"MR-Q10 'Fragarach 3' Beam Blade\",damage=200)\n",
    "beam_saber = MeleeWeapon(name=\"Beam Saber\",damage=150)\n",
    "beam_mace = MeleeWeapon(name=\"Pile Bunker\",damage=400)"
   ]
  },
  {
   "cell_type": "code",
   "execution_count": 23,
   "metadata": {},
   "outputs": [
    {
     "ename": "SyntaxError",
     "evalue": "invalid syntax (<ipython-input-23-faff27999d95>, line 5)",
     "output_type": "error",
     "traceback": [
      "\u001b[0;36m  File \u001b[0;32m\"<ipython-input-23-faff27999d95>\"\u001b[0;36m, line \u001b[0;32m5\u001b[0m\n\u001b[0;31m    [???]\u001b[0m\n\u001b[0m     ^\u001b[0m\n\u001b[0;31mSyntaxError\u001b[0m\u001b[0;31m:\u001b[0m invalid syntax\n"
     ]
    }
   ],
   "source": [
    "strike_noir_gundam = Gundam(\"Strike Noir Gundam\")\n",
    "turn_a_gundam = Gundam(\"Turn A Gundam\")\n",
    "barbatos = Gundam(\"Gundam Barbatos\")\n",
    "\n",
    "???\n",
    "\n",
    "red_side , _ , blue_side = random.shuffle([strike_noir_gundam,turn_a_gundam,barbatos])\n",
    "\n",
    "gundams = [red_side,blue_side]\n",
    "active_gundam = 0 if red_side > blue_side else 1\n",
    "\n",
    "while red_side.is_alive() and blue_side.is_alive() :\n",
    "    attacker = gundams[active_gundam % 2]\n",
    "    defender = gundams[defender_gundam+1 % 2]\n",
    "\n",
    "    print(f\"{attacker} attacks {defender})\n",
    "    old_hp = defender.get_remaining_hitpoints()\n",
    "    attacker.attack(defender)\n",
    "    print(f\"Damage dealt {old_hp - defender.get_remaining_hitpoints()}\")\n",
    "          \n",
    "winner = red_side\n",
    "if blue_side.is_alive():\n",
    "    winner = blue_side\n",
    "\n",
    "print(f\"Winner: {winner}\") \n",
    "          \n"
   ]
  },
  {
   "cell_type": "code",
   "execution_count": null,
   "metadata": {},
   "outputs": [],
   "source": []
  },
  {
   "cell_type": "code",
   "execution_count": null,
   "metadata": {},
   "outputs": [],
   "source": []
  }
 ],
 "metadata": {
  "kernelspec": {
   "display_name": "Python 3",
   "language": "python",
   "name": "python3"
  },
  "language_info": {
   "codemirror_mode": {
    "name": "ipython",
    "version": 3
   },
   "file_extension": ".py",
   "mimetype": "text/x-python",
   "name": "python",
   "nbconvert_exporter": "python",
   "pygments_lexer": "ipython3",
   "version": "3.6.5rc1"
  }
 },
 "nbformat": 4,
 "nbformat_minor": 2
}
