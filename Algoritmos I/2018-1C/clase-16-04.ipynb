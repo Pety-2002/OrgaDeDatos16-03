{
 "cells": [
  {
   "cell_type": "code",
   "execution_count": null,
   "metadata": {},
   "outputs": [],
   "source": [
    "from IPython.display import Image"
   ]
  },
  {
   "cell_type": "markdown",
   "metadata": {},
   "source": [
    "# La Magia de la television\n",
    "## Capitulo 3: Todo termina con un premio"
   ]
  },
  {
   "cell_type": "markdown",
   "metadata": {},
   "source": [
    "## Parte 1: \n",
    "\n"
   ]
  },
  {
   "cell_type": "code",
   "execution_count": null,
   "metadata": {},
   "outputs": [],
   "source": [
    "Image(filename='./clase-16-04_images/img1.jpg')"
   ]
  },
  {
   "cell_type": "code",
   "execution_count": null,
   "metadata": {},
   "outputs": [],
   "source": [
    "PRIMER_NOMINADO = 0\n",
    "SEGUNDO_NOMINADO = 1\n",
    "TERCER_NOMINADO = 2\n",
    "CUARTO_NOMINADO = 3\n",
    "\n",
    "ANIME = 0\n",
    "NOVELA_ARGENTINA = 1\n",
    "NOVELA_KOREANA = 2\n",
    "\n",
    "NOMBRE = 0\n",
    "PUNTAJE = 1\n",
    "\n",
    "mis_nominados = [\n",
    "    [None]*3,\n",
    "    [None]*3,\n",
    "    [None]*3,\n",
    "    [None]*3,\n",
    "]\n",
    "\n",
    "mis_nominados"
   ]
  },
  {
   "cell_type": "code",
   "execution_count": null,
   "metadata": {},
   "outputs": [],
   "source": [
    "def nominar(nominados):\n",
    "    nominados[PRIMER_NOMINADO][ANIME] = (\"Persona 5: The Animation\",10)\n",
    "    nominados[SEGUNDO_NOMINADO][ANIME] = (\"Steins;Gate 0\",9.9)\n",
    "    nominados[TERCER_NOMINADO][ANIME] = (\"Tokyo Ghoul: re\",8)\n",
    "    nominados[CUARTO_NOMINADO][ANIME] = (\"Magical Girl Site\", 8)\n",
    "    \n",
    "    nominados[PRIMER_NOMINADO][NOVELA_ARGENTINA] = (\"El Sultan\",0)\n",
    "    nominados[SEGUNDO_NOMINADO][NOVELA_ARGENTINA] = (\"Simona\",5)\n",
    "    nominados[TERCER_NOMINADO][NOVELA_ARGENTINA] = (\"Golpe al corazon\", 2)\n",
    "    nominados[CUARTO_NOMINADO][NOVELA_ARGENTINA] = (\"Ojos que no ven\", 4)\n",
    "    \n",
    "    nominados[PRIMER_NOMINADO][NOVELA_KOREANA] = (\"Another Miss Oh\",9)\n",
    "    nominados[SEGUNDO_NOMINADO][NOVELA_KOREANA] = (\"Beating Again\",9.9)\n",
    "    nominados[TERCER_NOMINADO][NOVELA_KOREANA] = (\"Goodbye Mr Black\",9.9)\n",
    "    nominados[CUARTO_NOMINADO][NOVELA_KOREANA] = (\"Nine Time Travels\", 8)\n",
    "\n",
    "mis_nominados"
   ]
  },
  {
   "cell_type": "code",
   "execution_count": null,
   "metadata": {},
   "outputs": [],
   "source": [
    "nominar(mis_nominados)\n",
    "mis_nominados"
   ]
  },
  {
   "cell_type": "markdown",
   "metadata": {},
   "source": [
    "[https://goo.gl/1UpYhM](https://goo.gl/1UpYhM)"
   ]
  },
  {
   "cell_type": "code",
   "execution_count": null,
   "metadata": {},
   "outputs": [],
   "source": []
  },
  {
   "cell_type": "markdown",
   "metadata": {},
   "source": [
    "https://goo.gl/sVBLiG"
   ]
  },
  {
   "cell_type": "markdown",
   "metadata": {},
   "source": [
    "## Parte 2: "
   ]
  },
  {
   "cell_type": "code",
   "execution_count": null,
   "metadata": {},
   "outputs": [],
   "source": [
    "Image(filename='./clase-16-04_images/img2.jpg')"
   ]
  },
  {
   "cell_type": "code",
   "execution_count": null,
   "metadata": {},
   "outputs": [],
   "source": []
  }
 ],
 "metadata": {
  "kernelspec": {
   "display_name": "Python 3",
   "language": "python",
   "name": "python3"
  },
  "language_info": {
   "codemirror_mode": {
    "name": "ipython",
    "version": 3
   },
   "file_extension": ".py",
   "mimetype": "text/x-python",
   "name": "python",
   "nbconvert_exporter": "python",
   "pygments_lexer": "ipython3",
   "version": "3.6.5rc1"
  }
 },
 "nbformat": 4,
 "nbformat_minor": 2
}
