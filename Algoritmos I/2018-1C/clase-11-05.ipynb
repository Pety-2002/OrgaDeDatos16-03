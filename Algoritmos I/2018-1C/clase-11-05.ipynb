{
 "cells": [
  {
   "cell_type": "markdown",
   "metadata": {},
   "source": [
    "# Make A Gunpla\n",
    "\n",
    "### Video referencia de la clase a modelar"
   ]
  },
  {
   "cell_type": "code",
   "execution_count": 1,
   "metadata": {},
   "outputs": [
    {
     "data": {
      "text/html": [
       "<iframe width=\"560\" height=\"315\" src=\"https://www.youtube.com/embed/FTd8xr9y5ig?rel=0&amp;controls=0&amp;showinfo=0\" frameborder=\"0\" allowfullscreen></iframe>"
      ],
      "text/plain": [
       "<IPython.core.display.HTML object>"
      ]
     },
     "execution_count": 1,
     "metadata": {},
     "output_type": "execute_result"
    }
   ],
   "source": [
    "from IPython.display import HTML\n",
    "\n",
    "# Youtube\n",
    "HTML('<iframe width=\"560\" height=\"315\" src=\"https://www.youtube.com/embed/FTd8xr9y5ig?rel=0&amp;controls=0&amp;showinfo=0\" frameborder=\"0\" allowfullscreen></iframe>')\n"
   ]
  },
  {
   "cell_type": "markdown",
   "metadata": {},
   "source": [
    "## Crear instancias"
   ]
  },
  {
   "cell_type": "code",
   "execution_count": 2,
   "metadata": {},
   "outputs": [],
   "source": [
    "from gundam import GunplaPart, Gun, MeleeWeapon"
   ]
  },
  {
   "cell_type": "markdown",
   "metadata": {},
   "source": [
    "### Gunpla Parts"
   ]
  },
  {
   "cell_type": "code",
   "execution_count": 3,
   "metadata": {},
   "outputs": [],
   "source": [
    "turn_a_r_arm = GunplaPart(\"Turn A Gundam R Arm\",GunplaPart.R_ARM,5,9,60)\n",
    "turn_a_l_arm = GunplaPart(\"Turn A Gundam L Arm\",GunplaPart.L_ARM,5,9,60)\n",
    "turn_a_waist = GunplaPart(\"Turn A Gundam Waist\",GunplaPart.WAIST,10,10,20)\n",
    "turn_a_backpack = GunplaPart(\"Turn A Gundam Backpack\",GunplaPart.BACKPACK,1,1,700)\n",
    "turn_a_head = GunplaPart(\"Turn A Gundam Head\",GunplaPart.HEAD,1,1,20)\n",
    "turn_a_chest = GunplaPart(\"Turn A Gundam Chest\",GunplaPart.CHEST,5,20,200)"
   ]
  },
  {
   "cell_type": "code",
   "execution_count": 4,
   "metadata": {},
   "outputs": [
    {
     "name": "stdout",
     "output_type": "stream",
     "text": [
      "Gunpla Part: Turn A Gundam L Arm <(Left Arm)>\n"
     ]
    }
   ],
   "source": [
    "print(turn_a_l_arm)"
   ]
  },
  {
   "cell_type": "code",
   "execution_count": 5,
   "metadata": {},
   "outputs": [
    {
     "data": {
      "text/plain": [
       "Gunpla Part: Turn A Gundam L Arm <(Left Arm)>\n",
       "\t Size: 5\n",
       "\t Armor: 60\n",
       "\t Hitpoints: 225.0\n",
       "\t Weight: 9"
      ]
     },
     "execution_count": 5,
     "metadata": {},
     "output_type": "execute_result"
    }
   ],
   "source": [
    "turn_a_l_arm"
   ]
  },
  {
   "cell_type": "code",
   "execution_count": 6,
   "metadata": {},
   "outputs": [],
   "source": [
    "strike_noir_r_arm = GunplaPart(\"Strike Gundam E R Arm\",GunplaPart.R_ARM,5,11,50)\n",
    "strike_noir_l_arm = GunplaPart(\"Strike Gundam E L Arm\",GunplaPart.L_ARM,5,11,50)\n",
    "strike_noir_waist = GunplaPart(\"Strike Gundam E Waist\",GunplaPart.WAIST,10,10,20)\n",
    "strike_noir_backpack = GunplaPart(\"Noir Strike Backpack\",GunplaPart.BACKPACK,4,4,500)\n",
    "strike_noir_head = GunplaPart(\"Strike Gundam E Head\",GunplaPart.HEAD,2,1,25)\n",
    "strike_noir_chest = GunplaPart(\"Strike Gundam E Chest\",GunplaPart.CHEST,5,20,150)\n",
    "\n",
    "barbatos_r_arm = GunplaPart(\"Gundam Barbatos R Arm\",GunplaPart.R_ARM,5,3,90)\n",
    "barbatos_l_arm = GunplaPart(\"Gundam Barbatos L Arm\",GunplaPart.L_ARM,5,3,90)\n",
    "barbatos_waist = GunplaPart(\"Gundam Barbatos Waist\",GunplaPart.WAIST,10,9,200)\n",
    "barbatos_backpack = GunplaPart(\"Gundam Barbatos Backpack\",GunplaPart.BACKPACK,1,0,100)\n",
    "barbatos_head = GunplaPart(\"Gundam Barbatos Head\",GunplaPart.HEAD,1,1,15)\n",
    "barbatos_chest = GunplaPart(\"Gundam Barbatos Chest\",GunplaPart.CHEST,6,35,700)"
   ]
  },
  {
   "cell_type": "markdown",
   "metadata": {},
   "source": [
    "### Weapons"
   ]
  },
  {
   "cell_type": "code",
   "execution_count": 7,
   "metadata": {},
   "outputs": [],
   "source": [
    "beam_rifle = Gun(name=\"57mm High-energy Beam Rifle\",rounds=8,damage_per_shot=50)\n",
    "grenade_launcher = Gun(name=\"175mm Grenade Launcher\",rounds=1,damage_per_shot=500)\n",
    "beam_cannon = Gun(name=\"Beam Cannon\",rounds=2,damage_per_shot=100)\n",
    "\n",
    "beam_blade = MeleeWeapon(name=\"MR-Q10 'Fragarach 3' Beam Blade\",damage=200)\n",
    "beam_saber = MeleeWeapon(name=\"Beam Saber\",damage=150)\n",
    "mace = MeleeWeapon(name=\"Pile Bunker\",damage=400)"
   ]
  },
  {
   "cell_type": "markdown",
   "metadata": {},
   "source": [
    "## Clase Gundam"
   ]
  },
  {
   "cell_type": "code",
   "execution_count": 8,
   "metadata": {},
   "outputs": [],
   "source": [
    "from random import random, shuffle\n",
    "\n",
    "class Gundam:\n",
    "    \"\"\"Clase que representa un Gunpla (Gundam) \n",
    "        pensado para combatir entre si.\"\"\"\n",
    "    \n",
    "    def __init__(self,nombre):\n",
    "        \"\"\"Construye una clase Gundam sin piezas.\n",
    "            nombre: Es el identificador del Gundam, debe tener \n",
    "            representacion en string\"\"\"\n",
    "        self.hitpoints = 0\n",
    "        self.main_weapon = None\n",
    "        self.sub_weapon = None\n",
    "        self.frame = {}\n",
    "        self.nombre = str(nombre)\n",
    "             \n",
    "    def attach(self,parte):\n",
    "        \"\"\"Adosa una parte al Gundam. \n",
    "            Si habia una parte del mismo tipo adosada anteriormetente la \n",
    "            reemplaza y la devuelve\"\"\"\n",
    "        tipo_parte = parte.get_part_type()\n",
    "        parte_anterior = self.frame.get(tipo_parte,None)\n",
    "        self.frame[tipo_parte] = parte\n",
    "        return parte_anterior\n",
    "    \n",
    "    def attack(self,otro_gundam):\n",
    "        \"\"\"Recibe otro Gundam y lo ataca\"\"\"\n",
    "        \n",
    "        random_number = random()\n",
    "        if random_number > 0.95:\n",
    "            self.main_weapon.atack(otro_gundam)\n",
    "            self.sub_weapon.atack(otro_gundam)\n",
    "        elif random_number > 0.20:\n",
    "            self.main_weapon.atack(otro_gundam)\n",
    "        else:\n",
    "            self.sub_weapon.atack(otro_gundam)\n",
    "    \n",
    "    def set_main_weapon(self,weapon):\n",
    "        \n",
    "        self.main_weapon = weapon\n",
    "        \n",
    "    def set_sub_weapon(self,weapon):\n",
    "        \n",
    "        self.sub_weapon = weapon\n",
    "    \n",
    "    def get_hitpoints(self):\n",
    "        \n",
    "        return self.hitpoints\n",
    "    \n",
    "    def receive_damage(self,damage):\n",
    "    \n",
    "        efective_damage = (damage - self.get_armor()/10)\n",
    "        \n",
    "        if efective_damage < 0:\n",
    "            # A lo sumo puede recibir 0, pero no curarse\n",
    "            efective_damage = 0\n",
    "        \n",
    "        self.hitpoints -= efective_damage\n",
    "        \n",
    "    def __str__(self):\n",
    "        return self.nombre\n",
    "    \n",
    "    def get_max_hitpoints(self):\n",
    "        \"\"\"Devuelve el maximo de puntos de vida que puede tener el Gundam\n",
    "            dadas las partes adosadas\"\"\"\n",
    "        hitpoints = 0\n",
    "        for _,part in self.frame.items():\n",
    "            hitpoints += part.get_hitpoints()\n",
    "        return hitpoints\n",
    "    \n",
    "    def get_armor(self):\n",
    "        \n",
    "        armor_points = 0\n",
    "        for _,part in self.frame.items():\n",
    "            armor_points += part.get_armor()\n",
    "        return armor_points\n",
    "    \n",
    "    def recharge(self):\n",
    "        \"\"\"Recarga la energia (hitpoints) completamente\"\"\"\n",
    "        self.hitpoints = self.get_max_hitpoints()\n",
    "        \n",
    "    "
   ]
  },
  {
   "cell_type": "markdown",
   "metadata": {},
   "source": [
    "## [Strike Noir Gundam](http://gundam.wikia.com/wiki/GAT-X105E%2BAQM/E-X09S_Strike_Noir_Gundam)"
   ]
  },
  {
   "cell_type": "code",
   "execution_count": 9,
   "metadata": {},
   "outputs": [],
   "source": [
    "strike_noir_gundam = Gundam(\"Strike Noir Gundam\")\n",
    "\n",
    "strike_noir_gundam.attach(strike_noir_head)\n",
    "strike_noir_gundam.attach(strike_noir_backpack)\n",
    "strike_noir_gundam.attach(strike_noir_chest)\n",
    "strike_noir_gundam.attach(strike_noir_l_arm)\n",
    "strike_noir_gundam.attach(strike_noir_r_arm)\n",
    "strike_noir_gundam.attach(strike_noir_waist)\n",
    "\n",
    "strike_noir_gundam.set_main_weapon(beam_rifle)\n",
    "strike_noir_gundam.set_sub_weapon(beam_blade)\n",
    "strike_noir_gundam.recharge()"
   ]
  },
  {
   "cell_type": "markdown",
   "metadata": {},
   "source": [
    "## [Turn A Gundam](http://gundam.wikia.com/wiki/SYSTEM_%E2%88%80-99_%E2%88%80_Gundam)"
   ]
  },
  {
   "cell_type": "code",
   "execution_count": 10,
   "metadata": {},
   "outputs": [],
   "source": [
    "turn_a_gundam = Gundam(\"Turn A Gundam\")\n",
    "\n",
    "turn_a_gundam.attach(turn_a_head)\n",
    "turn_a_gundam.attach(turn_a_backpack)\n",
    "turn_a_gundam.attach(turn_a_chest)\n",
    "turn_a_gundam.attach(turn_a_l_arm)\n",
    "turn_a_gundam.attach(turn_a_r_arm)\n",
    "turn_a_gundam.attach(turn_a_waist)\n",
    "\n",
    "turn_a_gundam.set_main_weapon(beam_cannon)\n",
    "turn_a_gundam.set_sub_weapon(beam_saber)\n",
    "turn_a_gundam.recharge()"
   ]
  },
  {
   "cell_type": "markdown",
   "metadata": {},
   "source": [
    "## [Gundam Barbatos](http://gundam.wikia.com/wiki/ASW-G-08_Gundam_Barbatos)"
   ]
  },
  {
   "cell_type": "code",
   "execution_count": 11,
   "metadata": {},
   "outputs": [],
   "source": [
    "barbatos = Gundam(\"Gundam Barbatos\")\n",
    "\n",
    "barbatos.attach(barbatos_head)\n",
    "barbatos.attach(barbatos_backpack)\n",
    "barbatos.attach(barbatos_chest)\n",
    "barbatos.attach(barbatos_l_arm)\n",
    "barbatos.attach(barbatos_r_arm)\n",
    "barbatos.attach(barbatos_waist)\n",
    "\n",
    "barbatos.set_main_weapon(mace)\n",
    "barbatos.set_sub_weapon(grenade_launcher)\n",
    "barbatos.recharge()"
   ]
  },
  {
   "cell_type": "markdown",
   "metadata": {},
   "source": [
    "### Combat simulation"
   ]
  },
  {
   "cell_type": "code",
   "execution_count": 12,
   "metadata": {},
   "outputs": [
    {
     "name": "stdout",
     "output_type": "stream",
     "text": [
      "Strike Noir Gundam attacks Turn A Gundam\n",
      "Damage dealt 94.0\n",
      "Turn A Gundam attacks Strike Noir Gundam\n",
      "Damage dealt 20.5\n",
      "Strike Noir Gundam attacks Turn A Gundam\n",
      "Damage dealt 94.0\n",
      "Turn A Gundam attacks Strike Noir Gundam\n",
      "Damage dealt 20.5\n",
      "Strike Noir Gundam attacks Turn A Gundam\n",
      "Damage dealt 494.0\n",
      "Turn A Gundam attacks Strike Noir Gundam\n",
      "Damage dealt 220.5\n",
      "Strike Noir Gundam attacks Turn A Gundam\n",
      "Damage dealt 94.0\n",
      "Turn A Gundam attacks Strike Noir Gundam\n",
      "Damage dealt 170.5\n",
      "Strike Noir Gundam attacks Turn A Gundam\n",
      "Damage dealt 144.0\n",
      "Turn A Gundam attacks Strike Noir Gundam\n",
      "Damage dealt 370.5\n",
      "Strike Noir Gundam attacks Turn A Gundam\n",
      "Damage dealt 94.0\n",
      "Turn A Gundam attacks Strike Noir Gundam\n",
      "Damage dealt 0.0\n",
      "Strike Noir Gundam attacks Turn A Gundam\n",
      "Damage dealt 369.0\n",
      "Turn A Gundam attacks Strike Noir Gundam\n",
      "Damage dealt 0.0\n",
      "Strike Noir Gundam attacks Turn A Gundam\n",
      "Damage dealt 344.0\n",
      "Turn A Gundam attacks Strike Noir Gundam\n",
      "Damage dealt 170.5\n",
      "Strike Noir Gundam attacks Turn A Gundam\n",
      "Damage dealt 694.0\n",
      "Turn A Gundam attacks Strike Noir Gundam\n",
      "Damage dealt 595.5\n",
      "Strike Noir Gundam attacks Turn A Gundam\n",
      "Damage dealt 319.0\n",
      "Winner: Strike Noir Gundam\n"
     ]
    }
   ],
   "source": [
    "my_gundams = [strike_noir_gundam,turn_a_gundam,barbatos]\n",
    "shuffle(my_gundams)\n",
    "\n",
    "red_side , blue_side = my_gundams[0] , my_gundams[-1]\n",
    "gundams = [red_side,blue_side]\n",
    "\n",
    "active_gundam = 0\n",
    "\n",
    "while red_side.get_hitpoints() > 0 \\\n",
    "        and blue_side.get_hitpoints() > 0 :\n",
    "    attacker = gundams[active_gundam % 2]\n",
    "    defender = gundams[(active_gundam+1) % 2]\n",
    "\n",
    "    print(f\"{attacker} attacks {defender}\")\n",
    "    old_hp = defender.get_hitpoints()\n",
    "    attacker.attack(defender)\n",
    "    print(f\"Damage dealt {old_hp - defender.get_hitpoints()}\")\n",
    "    \n",
    "    active_gundam += 1\n",
    "          \n",
    "winner = red_side\n",
    "if blue_side.get_hitpoints() > 0:\n",
    "    winner = blue_side\n",
    "\n",
    "print(f\"Winner: {winner}\") "
   ]
  }
 ],
 "metadata": {
  "kernelspec": {
   "display_name": "Python 3",
   "language": "python",
   "name": "python3"
  },
  "language_info": {
   "codemirror_mode": {
    "name": "ipython",
    "version": 3
   },
   "file_extension": ".py",
   "mimetype": "text/x-python",
   "name": "python",
   "nbconvert_exporter": "python",
   "pygments_lexer": "ipython3",
   "version": "3.6.3"
  }
 },
 "nbformat": 4,
 "nbformat_minor": 2
}
