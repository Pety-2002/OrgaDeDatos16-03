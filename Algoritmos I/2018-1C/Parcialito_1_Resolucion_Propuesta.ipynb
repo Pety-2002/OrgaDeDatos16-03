{
 "cells": [
  {
   "cell_type": "markdown",
   "metadata": {},
   "source": [
    "# Parcialito 1 (Solucion propuesta)"
   ]
  },
  {
   "cell_type": "markdown",
   "metadata": {},
   "source": [
    "## Ejercicio 1\n",
    "### Enunciado\n",
    "\n",
    "1) Dada la siguiente función:\n",
    "``` python\n",
    "def mi_funcion(p,q):\n",
    "\tcontador_1 = contador_2 = p\n",
    "\n",
    "\twhile True:\n",
    "\t\tif contador_2 > q:\n",
    "\t\t\tcontador_1 += 2\n",
    "\t\t\tcontador_2 = p\n",
    "\t\t\tprint()\n",
    "\n",
    "\t\tif contador_1 > q:\n",
    "\t\t\tbreak\n",
    "\n",
    "\t\tprint(contador_1 , end=\" \")\n",
    "\t\tcontador_2 += 2\n",
    "```\n",
    "    A) Mostrar la salida de ejecutar 'my_function' con p=3 q=7\n",
    "    B) Proponga un mejor nombre para los parámetros `p` y `q`\n",
    "    C) Reescribir la función anterior utilizando solo ciclos `for`\n",
    "\n",
    "### Resolucion\n",
    "\n",
    "#### Item A\n",
    "\n",
    "``` bash\n",
    ">>> my_function(3,7)\n",
    "3 3 3\n",
    "5 5 5\n",
    "7 7 7\n",
    "```\n",
    "\n",
    "#### Item B\n",
    "\n",
    "`p` = inicio ; `q` = final \n",
    "\n",
    "#### Item C"
   ]
  },
  {
   "cell_type": "code",
   "execution_count": 1,
   "metadata": {},
   "outputs": [
    {
     "name": "stdout",
     "output_type": "stream",
     "text": [
      "3 3 3 \n",
      "5 5 5 \n",
      "7 7 7 \n"
     ]
    }
   ],
   "source": [
    "def mi_otra_funcion(inicio,final):\n",
    "    for i in range(inicio,final+1,2):\n",
    "        for j in range(inicio,final+1,2):\n",
    "            print(i,end=\" \")\n",
    "        print()\n",
    "\n",
    "mi_otra_funcion(3,7)"
   ]
  },
  {
   "cell_type": "markdown",
   "metadata": {},
   "source": [
    "## Ejercicio 2\n",
    "### Enunciado\n",
    "\n",
    "2) Un crucigrama es una matriz de nxm que contiene celdas. Las celdas son tuplas de dos elementos de la forma `(<Color>,<contenido>)`. Cada celda puede ser `BLANCA` o `NEGRA`. El contenido es una cadena, si está vacía, la celda está vacía. Un crucigrama no está correctamente llenado si:\n",
    " * Hay una celda `BLANCA` vacía\n",
    " * Hay una celda `NEGRA` llena\n",
    " \n",
    "Escribir una función que dado un crucigrama, devuelva si está correctamente llenado.\n",
    "\n",
    "### Resolucion"
   ]
  },
  {
   "cell_type": "code",
   "execution_count": 2,
   "metadata": {},
   "outputs": [],
   "source": [
    "def es_crucigrama_valido(crucigrama):\n",
    "    '''Recibe un crucigrama y devuelve si esta o no correctamente llenado.\n",
    "        Un crucigrama no está correctamente llenado si:\n",
    "            - Hay al menos una celda BLANCA vacía\n",
    "            - Hay al menos una celda NEGRA llena'''\n",
    "    \n",
    "    for fila in crucigrama:\n",
    "        for celda in fila:\n",
    "            color,contenido = celda\n",
    "\n",
    "            if color == BLANCO and not contenido:\n",
    "                return False\n",
    "            if color == NEGRO and contenido:\n",
    "                return False\n",
    "\n",
    "    return True"
   ]
  },
  {
   "cell_type": "markdown",
   "metadata": {},
   "source": [
    "## Ejercicio 3\n",
    "### Enunciado\n",
    "\n",
    "3) Escribir una función que reciba una cadena y devuelva  su encriptación en formato `rot13`. Para encriptar una cadena con `rot13` se debe reemplazar cada caracter por el caracter que se encuentra a 13 posiciones en el abecedario.\n",
    "\n",
    "Si la cadena contiene números, caracteres especiales o mayúsculas se debe devolver una cadena vacía. \n",
    "\n",
    "* **Ayuda**: usar la constante _ascii_lowercase_ del módulo `string` que contiene “abcd...xyz” \n",
    "\n",
    "Ej: \n",
    "``` python\n",
    "    rot13(“zambia”) -> “mnzovn”\n",
    "    rot13(“mnzovn”) -> “zambia”\n",
    "    rot13(“z4mbi4”) -> “”\n",
    "```\n",
    "\n",
    "### Resolucion"
   ]
  },
  {
   "cell_type": "code",
   "execution_count": 3,
   "metadata": {},
   "outputs": [
    {
     "name": "stdout",
     "output_type": "stream",
     "text": [
      "fvzbatn\n",
      "simonga\n",
      "\n"
     ]
    }
   ],
   "source": [
    "from string import ascii_lowercase\n",
    "\n",
    "def encriptar(cadena):\n",
    "    encriptado = []\n",
    "    for c in cadena:\n",
    "        if not c in ascii_lowercase:\n",
    "            return \"\"\n",
    "\n",
    "        i = ascii_lowercase.index(c) + 13\n",
    "        i = i % len(ascii_lowercase)\n",
    "\n",
    "        encriptado.append(ascii_lowercase[i])\n",
    "\n",
    "    return \"\".join(encriptado)\n",
    "\n",
    "print(encriptar(\"simonga\"))\n",
    "print(encriptar(\"fvzbatn\"))\n",
    "print(encriptar(\"Zambia\"))"
   ]
  }
 ],
 "metadata": {
  "kernelspec": {
   "display_name": "Python 3",
   "language": "python",
   "name": "python3"
  },
  "language_info": {
   "codemirror_mode": {
    "name": "ipython",
    "version": 3
   },
   "file_extension": ".py",
   "mimetype": "text/x-python",
   "name": "python",
   "nbconvert_exporter": "python",
   "pygments_lexer": "ipython3",
   "version": "3.6.5rc1"
  }
 },
 "nbformat": 4,
 "nbformat_minor": 2
}
