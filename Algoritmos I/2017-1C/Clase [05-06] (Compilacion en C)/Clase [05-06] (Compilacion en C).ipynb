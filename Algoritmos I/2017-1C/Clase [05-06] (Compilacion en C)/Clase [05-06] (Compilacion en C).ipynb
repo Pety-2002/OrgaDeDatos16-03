{
 "cells": [
  {
   "cell_type": "markdown",
   "metadata": {},
   "source": [
    "# Ejemplos de compilacion basica en C\n",
    "\n",
    "Originalmente solo tenemos los archivos fuente en nuestra carpeta"
   ]
  },
  {
   "cell_type": "code",
   "execution_count": 1,
   "metadata": {},
   "outputs": [
    {
     "name": "stdout",
     "output_type": "stream",
     "text": [
      "HolaMunro2\thola_munro_2.c\thola_munro_4.c\thola_munro_6.c\n",
      "hola_munro_1.c\thola_munro_3.c\thola_munro_5.c\n"
     ]
    }
   ],
   "source": [
    "cd src\n",
    "ls"
   ]
  },
  {
   "cell_type": "markdown",
   "metadata": {},
   "source": [
    "## Ejemplo 1 (Codigo correcto)"
   ]
  },
  {
   "cell_type": "code",
   "execution_count": 2,
   "metadata": {},
   "outputs": [
    {
     "name": "stdout",
     "output_type": "stream",
     "text": [
      "#include <stdio.h>\n",
      "\n",
      "int main(){\n",
      "\tprintf (\"Hola Munro\\n\");\n",
      "\treturn 0;\n",
      "}\n"
     ]
    }
   ],
   "source": [
    "cat hola_munro_1.c"
   ]
  },
  {
   "cell_type": "markdown",
   "metadata": {},
   "source": [
    "Lo compilamos utilizando el compilador `clang`:"
   ]
  },
  {
   "cell_type": "code",
   "execution_count": 3,
   "metadata": {
    "collapsed": true
   },
   "outputs": [],
   "source": [
    "clang hola_munro_1.c"
   ]
  },
  {
   "cell_type": "markdown",
   "metadata": {},
   "source": [
    "El programa compilado aparece en la carpeta, con el nombre `a.out`"
   ]
  },
  {
   "cell_type": "code",
   "execution_count": 4,
   "metadata": {},
   "outputs": [
    {
     "name": "stdout",
     "output_type": "stream",
     "text": [
      "HolaMunro2  hola_munro_1.c  hola_munro_3.c  hola_munro_5.c\n",
      "a.out\t    hola_munro_2.c  hola_munro_4.c  hola_munro_6.c\n"
     ]
    }
   ],
   "source": [
    "ls"
   ]
  },
  {
   "cell_type": "markdown",
   "metadata": {},
   "source": [
    "Podemos ejecutarlo directamente y ver que funciona correctamente"
   ]
  },
  {
   "cell_type": "code",
   "execution_count": 5,
   "metadata": {},
   "outputs": [
    {
     "name": "stdout",
     "output_type": "stream",
     "text": [
      "Hola Munro\n"
     ]
    }
   ],
   "source": [
    "./a.out\n",
    "rm ./a.out"
   ]
  },
  {
   "cell_type": "markdown",
   "metadata": {},
   "source": [
    "## Ejemplo 2 (Codigo incorrecto)"
   ]
  },
  {
   "cell_type": "code",
   "execution_count": 6,
   "metadata": {},
   "outputs": [
    {
     "name": "stdout",
     "output_type": "stream",
     "text": [
      "HolaMunro2\thola_munro_2.c\thola_munro_4.c\thola_munro_6.c\n",
      "hola_munro_1.c\thola_munro_3.c\thola_munro_5.c\n"
     ]
    }
   ],
   "source": [
    "ls"
   ]
  },
  {
   "cell_type": "code",
   "execution_count": 7,
   "metadata": {},
   "outputs": [
    {
     "name": "stdout",
     "output_type": "stream",
     "text": [
      "#include <stdio.h>\n",
      "\n",
      "int main(){\n",
      "\tprintf (\"Hola Munro\\n\");\n",
      "}\n"
     ]
    }
   ],
   "source": [
    "cat hola_munro_2.c"
   ]
  },
  {
   "cell_type": "markdown",
   "metadata": {},
   "source": [
    "Notar que falta el return al final. Sin esto, nuestro programa no garantiza que el valor de retorno del programa sea 0 en caso de no haber ningun error."
   ]
  },
  {
   "cell_type": "code",
   "execution_count": 8,
   "metadata": {},
   "outputs": [],
   "source": [
    "clang hola_munro_2.c"
   ]
  },
  {
   "cell_type": "markdown",
   "metadata": {},
   "source": [
    "Segun el compilador esto puede o no darnos un warning. Pero a fin de cuentas, compila y funciona igual:"
   ]
  },
  {
   "cell_type": "code",
   "execution_count": 9,
   "metadata": {},
   "outputs": [
    {
     "name": "stdout",
     "output_type": "stream",
     "text": [
      "HolaMunro2  hola_munro_1.c  hola_munro_3.c  hola_munro_5.c\n",
      "a.out\t    hola_munro_2.c  hola_munro_4.c  hola_munro_6.c\n",
      "Hola Munro\n"
     ]
    }
   ],
   "source": [
    "ls\n",
    "./a.out\n",
    "rm ./a.out"
   ]
  },
  {
   "cell_type": "markdown",
   "metadata": {},
   "source": [
    "## Ejemplo 3 (Codigo con warnings)"
   ]
  },
  {
   "cell_type": "code",
   "execution_count": 10,
   "metadata": {},
   "outputs": [
    {
     "name": "stdout",
     "output_type": "stream",
     "text": [
      "HolaMunro2\thola_munro_2.c\thola_munro_4.c\thola_munro_6.c\n",
      "hola_munro_1.c\thola_munro_3.c\thola_munro_5.c\n"
     ]
    }
   ],
   "source": [
    "ls"
   ]
  },
  {
   "cell_type": "code",
   "execution_count": 11,
   "metadata": {},
   "outputs": [
    {
     "name": "stdout",
     "output_type": "stream",
     "text": [
      "#include <stdio.h>\n",
      "\n",
      "int print(){\n",
      "\tprintf (\"Hola Munro\\n\");\n",
      "}\n",
      "\n",
      "int main(){\n",
      "\treturn print();\n",
      "}\n"
     ]
    }
   ],
   "source": [
    "cat hola_munro_3.c"
   ]
  },
  {
   "cell_type": "code",
   "execution_count": 12,
   "metadata": {},
   "outputs": [
    {
     "name": "stdout",
     "output_type": "stream",
     "text": [
      "hola_munro_3.c:5:1: warning: control reaches end of non-void function\n",
      "      [-Wreturn-type]\n",
      "}\n",
      "^\n",
      "1 warning generated.\n"
     ]
    }
   ],
   "source": [
    "clang hola_munro_3.c"
   ]
  },
  {
   "cell_type": "markdown",
   "metadata": {},
   "source": [
    "Este ejemplo ya nos da un warning. Pero aun asi, compila y funciona:"
   ]
  },
  {
   "cell_type": "code",
   "execution_count": 13,
   "metadata": {},
   "outputs": [
    {
     "name": "stdout",
     "output_type": "stream",
     "text": [
      "HolaMunro2  hola_munro_1.c  hola_munro_3.c  hola_munro_5.c\n",
      "a.out\t    hola_munro_2.c  hola_munro_4.c  hola_munro_6.c\n",
      "Hola Munro\n"
     ]
    }
   ],
   "source": [
    "ls\n",
    "./a.out"
   ]
  },
  {
   "cell_type": "markdown",
   "metadata": {},
   "source": [
    "## Codigos de salida\n",
    "\n",
    "Podemos verificar el codigo de salida de los programas, ejecutando `echo $?` en la consola. Por ejemplo:"
   ]
  },
  {
   "cell_type": "code",
   "execution_count": 14,
   "metadata": {},
   "outputs": [
    {
     "name": "stdout",
     "output_type": "stream",
     "text": [
      "Hola\n",
      "Codigo salida: 0\n"
     ]
    }
   ],
   "source": [
    "echo \"Hola\"\n",
    "echo \"Codigo salida: \"$?"
   ]
  },
  {
   "cell_type": "markdown",
   "metadata": {},
   "source": [
    "El programa funciono correctamente"
   ]
  },
  {
   "cell_type": "code",
   "execution_count": 15,
   "metadata": {},
   "outputs": [
    {
     "name": "stdout",
     "output_type": "stream",
     "text": [
      "bash: asdsad: command not found\n",
      "Codigo salida: 127\n"
     ]
    }
   ],
   "source": [
    "asdsad\n",
    "echo \"Codigo salida: \"$?"
   ]
  },
  {
   "cell_type": "markdown",
   "metadata": {},
   "source": [
    "El programa tuvo un error al ejecutarse. Esto lo podemos probar en nuestros propios programas:"
   ]
  },
  {
   "cell_type": "code",
   "execution_count": 16,
   "metadata": {},
   "outputs": [
    {
     "name": "stdout",
     "output_type": "stream",
     "text": [
      "Hola Munro\n",
      "Codigo salida: 0\n"
     ]
    }
   ],
   "source": [
    "clang hola_munro_1.c\n",
    "./a.out\n",
    "echo \"Codigo salida: \"$?"
   ]
  },
  {
   "cell_type": "code",
   "execution_count": 17,
   "metadata": {},
   "outputs": [
    {
     "name": "stdout",
     "output_type": "stream",
     "text": [
      "Hola Munro\n",
      "Codigo salida: 0\n"
     ]
    }
   ],
   "source": [
    "clang hola_munro_2.c\n",
    "./a.out\n",
    "echo \"Codigo salida: \"$?"
   ]
  },
  {
   "cell_type": "code",
   "execution_count": 18,
   "metadata": {},
   "outputs": [
    {
     "name": "stdout",
     "output_type": "stream",
     "text": [
      "hola_munro_3.c:5:1: warning: control reaches end of non-void function\n",
      "      [-Wreturn-type]\n",
      "}\n",
      "^\n",
      "1 warning generated.\n",
      "Hola Munro\n",
      "Codigo salida: 0\n"
     ]
    }
   ],
   "source": [
    "clang hola_munro_3.c\n",
    "./a.out\n",
    "echo \"Codigo salida: \"$?"
   ]
  },
  {
   "cell_type": "code",
   "execution_count": 19,
   "metadata": {},
   "outputs": [
    {
     "name": "stdout",
     "output_type": "stream",
     "text": [
      "hola_munro_3.c:5:1: warning: control reaches end of non-void function\n",
      "      [-Wreturn-type]\n",
      "}\n",
      "^\n",
      "1 warning generated.\n",
      "Codigo salida: 0\n"
     ]
    }
   ],
   "source": [
    "clang hola_munro_3.c\n",
    "echo \"Codigo salida: \"$?"
   ]
  },
  {
   "cell_type": "markdown",
   "metadata": {},
   "source": [
    "Notar que, aunque compile con warnings, la compilacion se ejecuto correctamente.\n",
    "\n",
    "### Codigos de error de UNIX\n",
    "A continuacion se pueden encontrar las definiciones de los codigos de errores definidos en las bibliotecas del sistema."
   ]
  },
  {
   "cell_type": "code",
   "execution_count": 20,
   "metadata": {},
   "outputs": [
    {
     "name": "stdout",
     "output_type": "stream",
     "text": [
      "#define\tEPERM\t\t 1\t/* Operation not permitted */\n",
      "#define\tENOENT\t\t 2\t/* No such file or directory */\n",
      "#define\tESRCH\t\t 3\t/* No such process */\n",
      "#define\tEINTR\t\t 4\t/* Interrupted system call */\n",
      "#define\tEIO\t\t 5\t/* I/O error */\n",
      "#define\tENXIO\t\t 6\t/* No such device or address */\n",
      "#define\tE2BIG\t\t 7\t/* Argument list too long */\n",
      "#define\tENOEXEC\t\t 8\t/* Exec format error */\n",
      "#define\tEBADF\t\t 9\t/* Bad file number */\n",
      "#define\tECHILD\t\t10\t/* No child processes */\n",
      "#define\tEAGAIN\t\t11\t/* Try again */\n",
      "#define\tENOMEM\t\t12\t/* Out of memory */\n",
      "#define\tEACCES\t\t13\t/* Permission denied */\n",
      "#define\tEFAULT\t\t14\t/* Bad address */\n",
      "#define\tENOTBLK\t\t15\t/* Block device required */\n",
      "#define\tEBUSY\t\t16\t/* Device or resource busy */\n",
      "#define\tEEXIST\t\t17\t/* File exists */\n",
      "#define\tEXDEV\t\t18\t/* Cross-device link */\n",
      "#define\tENODEV\t\t19\t/* No such device */\n",
      "#define\tENOTDIR\t\t20\t/* Not a directory */\n",
      "#define\tEISDIR\t\t21\t/* Is a directory */\n",
      "#define\tEINVAL\t\t22\t/* Invalid argument */\n",
      "#define\tENFILE\t\t23\t/* File table overflow */\n",
      "#define\tEMFILE\t\t24\t/* Too many open files */\n",
      "#define\tENOTTY\t\t25\t/* Not a typewriter */\n",
      "#define\tETXTBSY\t\t26\t/* Text file busy */\n",
      "#define\tEFBIG\t\t27\t/* File too large */\n",
      "#define\tENOSPC\t\t28\t/* No space left on device */\n",
      "#define\tESPIPE\t\t29\t/* Illegal seek */\n",
      "#define\tEROFS\t\t30\t/* Read-only file system */\n",
      "#define\tEMLINK\t\t31\t/* Too many links */\n",
      "#define\tEPIPE\t\t32\t/* Broken pipe */\n",
      "#define\tEDOM\t\t33\t/* Math argument out of domain of func */\n",
      "#define\tERANGE\t\t34\t/* Math result not representable */\n",
      "#define\tEDEADLK\t\t35\t/* Resource deadlock would occur */\n",
      "#define\tENAMETOOLONG\t36\t/* File name too long */\n",
      "#define\tENOLCK\t\t37\t/* No record locks available */\n",
      "#define\tENOSYS\t\t38\t/* Invalid system call number */\n",
      "#define\tENOTEMPTY\t39\t/* Directory not empty */\n",
      "#define\tELOOP\t\t40\t/* Too many symbolic links encountered */\n",
      "#define\tEWOULDBLOCK\tEAGAIN\t/* Operation would block */\n",
      "#define\tENOMSG\t\t42\t/* No message of desired type */\n",
      "#define\tEIDRM\t\t43\t/* Identifier removed */\n",
      "#define\tECHRNG\t\t44\t/* Channel number out of range */\n",
      "#define\tEL2NSYNC\t45\t/* Level 2 not synchronized */\n",
      "#define\tEL3HLT\t\t46\t/* Level 3 halted */\n",
      "#define\tEL3RST\t\t47\t/* Level 3 reset */\n",
      "#define\tELNRNG\t\t48\t/* Link number out of range */\n",
      "#define\tEUNATCH\t\t49\t/* Protocol driver not attached */\n",
      "#define\tENOCSI\t\t50\t/* No CSI structure available */\n",
      "#define\tEL2HLT\t\t51\t/* Level 2 halted */\n",
      "#define\tEBADE\t\t52\t/* Invalid exchange */\n",
      "#define\tEBADR\t\t53\t/* Invalid request descriptor */\n",
      "#define\tEXFULL\t\t54\t/* Exchange full */\n",
      "#define\tENOANO\t\t55\t/* No anode */\n",
      "#define\tEBADRQC\t\t56\t/* Invalid request code */\n",
      "#define\tEBADSLT\t\t57\t/* Invalid slot */\n",
      "#define\tEDEADLOCK\tEDEADLK\n",
      "#define\tEBFONT\t\t59\t/* Bad font file format */\n",
      "#define\tENOSTR\t\t60\t/* Device not a stream */\n",
      "#define\tENODATA\t\t61\t/* No data available */\n",
      "#define\tETIME\t\t62\t/* Timer expired */\n",
      "#define\tENOSR\t\t63\t/* Out of streams resources */\n",
      "#define\tENONET\t\t64\t/* Machine is not on the network */\n",
      "#define\tENOPKG\t\t65\t/* Package not installed */\n",
      "#define\tEREMOTE\t\t66\t/* Object is remote */\n",
      "#define\tENOLINK\t\t67\t/* Link has been severed */\n",
      "#define\tEADV\t\t68\t/* Advertise error */\n",
      "#define\tESRMNT\t\t69\t/* Srmount error */\n",
      "#define\tECOMM\t\t70\t/* Communication error on send */\n",
      "#define\tEPROTO\t\t71\t/* Protocol error */\n",
      "#define\tEMULTIHOP\t72\t/* Multihop attempted */\n",
      "#define\tEDOTDOT\t\t73\t/* RFS specific error */\n",
      "#define\tEBADMSG\t\t74\t/* Not a data message */\n",
      "#define\tEOVERFLOW\t75\t/* Value too large for defined data type */\n",
      "#define\tENOTUNIQ\t76\t/* Name not unique on network */\n",
      "#define\tEBADFD\t\t77\t/* File descriptor in bad state */\n",
      "#define\tEREMCHG\t\t78\t/* Remote address changed */\n",
      "#define\tELIBACC\t\t79\t/* Can not access a needed shared library */\n",
      "#define\tELIBBAD\t\t80\t/* Accessing a corrupted shared library */\n",
      "#define\tELIBSCN\t\t81\t/* .lib section in a.out corrupted */\n",
      "#define\tELIBMAX\t\t82\t/* Attempting to link in too many shared libraries */\n",
      "#define\tELIBEXEC\t83\t/* Cannot exec a shared library directly */\n",
      "#define\tEILSEQ\t\t84\t/* Illegal byte sequence */\n",
      "#define\tERESTART\t85\t/* Interrupted system call should be restarted */\n",
      "#define\tESTRPIPE\t86\t/* Streams pipe error */\n",
      "#define\tEUSERS\t\t87\t/* Too many users */\n",
      "#define\tENOTSOCK\t88\t/* Socket operation on non-socket */\n",
      "#define\tEDESTADDRREQ\t89\t/* Destination address required */\n",
      "#define\tEMSGSIZE\t90\t/* Message too long */\n",
      "#define\tEPROTOTYPE\t91\t/* Protocol wrong type for socket */\n",
      "#define\tENOPROTOOPT\t92\t/* Protocol not available */\n",
      "#define\tEPROTONOSUPPORT\t93\t/* Protocol not supported */\n",
      "#define\tESOCKTNOSUPPORT\t94\t/* Socket type not supported */\n",
      "#define\tEOPNOTSUPP\t95\t/* Operation not supported on transport endpoint */\n",
      "#define\tEPFNOSUPPORT\t96\t/* Protocol family not supported */\n",
      "#define\tEAFNOSUPPORT\t97\t/* Address family not supported by protocol */\n",
      "#define\tEADDRINUSE\t98\t/* Address already in use */\n",
      "#define\tEADDRNOTAVAIL\t99\t/* Cannot assign requested address */\n",
      "#define\tENETDOWN\t100\t/* Network is down */\n",
      "#define\tENETUNREACH\t101\t/* Network is unreachable */\n",
      "#define\tENETRESET\t102\t/* Network dropped connection because of reset */\n",
      "#define\tECONNABORTED\t103\t/* Software caused connection abort */\n",
      "#define\tECONNRESET\t104\t/* Connection reset by peer */\n",
      "#define\tENOBUFS\t\t105\t/* No buffer space available */\n",
      "#define\tEISCONN\t\t106\t/* Transport endpoint is already connected */\n",
      "#define\tENOTCONN\t107\t/* Transport endpoint is not connected */\n",
      "#define\tESHUTDOWN\t108\t/* Cannot send after transport endpoint shutdown */\n",
      "#define\tETOOMANYREFS\t109\t/* Too many references: cannot splice */\n",
      "#define\tETIMEDOUT\t110\t/* Connection timed out */\n",
      "#define\tECONNREFUSED\t111\t/* Connection refused */\n",
      "#define\tEHOSTDOWN\t112\t/* Host is down */\n",
      "#define\tEHOSTUNREACH\t113\t/* No route to host */\n",
      "#define\tEALREADY\t114\t/* Operation already in progress */\n",
      "#define\tEINPROGRESS\t115\t/* Operation now in progress */\n",
      "#define\tESTALE\t\t116\t/* Stale file handle */\n",
      "#define\tEUCLEAN\t\t117\t/* Structure needs cleaning */\n",
      "#define\tENOTNAM\t\t118\t/* Not a XENIX named type file */\n",
      "#define\tENAVAIL\t\t119\t/* No XENIX semaphores available */\n",
      "#define\tEISNAM\t\t120\t/* Is a named type file */\n",
      "#define\tEREMOTEIO\t121\t/* Remote I/O error */\n",
      "#define\tEDQUOT\t\t122\t/* Quota exceeded */\n",
      "#define\tENOMEDIUM\t123\t/* No medium found */\n",
      "#define\tEMEDIUMTYPE\t124\t/* Wrong medium type */\n",
      "#define\tECANCELED\t125\t/* Operation Canceled */\n",
      "#define\tENOKEY\t\t126\t/* Required key not available */\n",
      "#define\tEKEYEXPIRED\t127\t/* Key has expired */\n",
      "#define\tEKEYREVOKED\t128\t/* Key has been revoked */\n",
      "#define\tEKEYREJECTED\t129\t/* Key was rejected by service */\n",
      "#define\tEOWNERDEAD\t130\t/* Owner died */\n",
      "#define\tENOTRECOVERABLE\t131\t/* State not recoverable */\n",
      "#define ERFKILL\t\t132\t/* Operation not possible due to RF-kill */\n",
      "#define EHWPOISON\t133\t/* Memory page has hardware error */\n"
     ]
    }
   ],
   "source": [
    "grep -h -r \"define.E\" /usr/include/asm-generic/errno-base.h /usr/include/asm-generic/errno.h"
   ]
  },
  {
   "cell_type": "markdown",
   "metadata": {},
   "source": [
    "## Ejemplo 4 (Codigo de salida =/= 0)"
   ]
  },
  {
   "cell_type": "code",
   "execution_count": 21,
   "metadata": {},
   "outputs": [
    {
     "name": "stdout",
     "output_type": "stream",
     "text": [
      "HolaMunro2\thola_munro_2.c\thola_munro_4.c\thola_munro_6.c\n",
      "hola_munro_1.c\thola_munro_3.c\thola_munro_5.c\n"
     ]
    }
   ],
   "source": [
    "rm a.out\n",
    "ls"
   ]
  },
  {
   "cell_type": "code",
   "execution_count": 22,
   "metadata": {},
   "outputs": [
    {
     "name": "stdout",
     "output_type": "stream",
     "text": [
      "#include <stdio.h>\n",
      "\n",
      "int main(){\n",
      "\tprintf (\"Hola Munro\\n\");\n",
      "\treturn 15;\n",
      "}\n"
     ]
    }
   ],
   "source": [
    "cat hola_munro_4.c"
   ]
  },
  {
   "cell_type": "code",
   "execution_count": 23,
   "metadata": {},
   "outputs": [
    {
     "name": "stdout",
     "output_type": "stream",
     "text": [
      "Hola Munro\n",
      "Codigo salida: 15\n"
     ]
    }
   ],
   "source": [
    "clang hola_munro_4.c\n",
    "./a.out\n",
    "echo \"Codigo salida: \"$?"
   ]
  },
  {
   "cell_type": "markdown",
   "metadata": {},
   "source": [
    "El codigo de salida es el esperado.\n",
    "\n",
    "## Ejemplo 5 (Codigo que no compila)"
   ]
  },
  {
   "cell_type": "code",
   "execution_count": 24,
   "metadata": {},
   "outputs": [
    {
     "name": "stdout",
     "output_type": "stream",
     "text": [
      "HolaMunro2\thola_munro_2.c\thola_munro_4.c\thola_munro_6.c\n",
      "hola_munro_1.c\thola_munro_3.c\thola_munro_5.c\n"
     ]
    }
   ],
   "source": [
    "rm a.out\n",
    "ls"
   ]
  },
  {
   "cell_type": "code",
   "execution_count": 25,
   "metadata": {},
   "outputs": [
    {
     "name": "stdout",
     "output_type": "stream",
     "text": [
      "#include <stdio.h>\n",
      "\n",
      "int main(){\n",
      "\tprintf (\"Hola Munro\\n\");\n",
      "\treturn;\n",
      "}\n"
     ]
    }
   ],
   "source": [
    "cat hola_munro_5.c"
   ]
  },
  {
   "cell_type": "code",
   "execution_count": 26,
   "metadata": {},
   "outputs": [
    {
     "name": "stdout",
     "output_type": "stream",
     "text": [
      "hola_munro_5.c:5:2: error: non-void function 'main' should return a value\n",
      "      [-Wreturn-type]\n",
      "        return;\n",
      "        ^\n",
      "1 error generated.\n"
     ]
    },
    {
     "ename": "",
     "evalue": "1",
     "output_type": "error",
     "traceback": []
    }
   ],
   "source": [
    "clang hola_munro_5.c"
   ]
  },
  {
   "cell_type": "markdown",
   "metadata": {},
   "source": [
    "En este caso estamos diciendo explicitamente en el codigo: \"No devolver nada\". Ahora, la definicion indicaba que devolvia `int`. En este caso, el compilador no nos da una advertencia, sino que nos da un error y la compilacion no ocurre."
   ]
  },
  {
   "cell_type": "code",
   "execution_count": 27,
   "metadata": {},
   "outputs": [
    {
     "name": "stdout",
     "output_type": "stream",
     "text": [
      "HolaMunro2\thola_munro_2.c\thola_munro_4.c\thola_munro_6.c\n",
      "hola_munro_1.c\thola_munro_3.c\thola_munro_5.c\n"
     ]
    }
   ],
   "source": [
    "ls"
   ]
  },
  {
   "cell_type": "markdown",
   "metadata": {},
   "source": [
    "Puede verse que no se genero el archivo `a.out`"
   ]
  },
  {
   "cell_type": "code",
   "execution_count": 28,
   "metadata": {},
   "outputs": [
    {
     "name": "stdout",
     "output_type": "stream",
     "text": [
      "hola_munro_5.c:5:2: error: non-void function 'main' should return a value\n",
      "      [-Wreturn-type]\n",
      "        return;\n",
      "        ^\n",
      "1 error generated.\n",
      "Codigo salida: 1\n"
     ]
    }
   ],
   "source": [
    "clang hola_munro_5.c\n",
    "echo \"Codigo salida: \"$?"
   ]
  },
  {
   "cell_type": "markdown",
   "metadata": {},
   "source": [
    "El codigo de salida de la compialcion se puede ver que ahora si es de error. El programa no finalizo correctamente."
   ]
  },
  {
   "cell_type": "markdown",
   "metadata": {},
   "source": [
    "## Ejemplo 6 (Parametros de compilacion)"
   ]
  },
  {
   "cell_type": "code",
   "execution_count": 29,
   "metadata": {},
   "outputs": [
    {
     "name": "stdout",
     "output_type": "stream",
     "text": [
      "#include <stdio.h>\n",
      "\n",
      "int main(){\n",
      "\tfor (int i = 0; i<5; i++){\n",
      "\t\tprintf (\"Hola Munro\\n\");\n",
      "\t}\n",
      "\treturn 0;\n",
      "}\n"
     ]
    }
   ],
   "source": [
    "cat ./hola_munro_6.c"
   ]
  },
  {
   "cell_type": "markdown",
   "metadata": {},
   "source": [
    "Al compilar, podemos pasarle algunos parametros al compilador para que realice algunas operaciones extra o que modifique su comportamiento por defecto. Los mas comunes que van a usar durante el curso son:\n",
    "\n",
    "* -Wall : Habilita todos los warnings del compilador\n",
    "* -Wextra : Habilita mas warnings. Estos por ejemplo incluyen warnings en casos donde una funcion recibe parametros que no usa\n",
    "* -pedantic : Mas errores, el compilador se pone en \"pedante\"\n",
    "* -std : Estandar de codificacion en el cual se escribio el codigo fuente.\n",
    "* -o : Nombre del ejecutable generado (En Linux **NO** es necesario ponerle una extension especifica)[]\n",
    "\n",
    "Por ejemplo:"
   ]
  },
  {
   "cell_type": "code",
   "execution_count": 30,
   "metadata": {},
   "outputs": [],
   "source": [
    "clang -Wall -Wextra -pedantic -std=c99 -o HolaMunro ./hola_munro_6.c"
   ]
  },
  {
   "cell_type": "code",
   "execution_count": 31,
   "metadata": {},
   "outputs": [
    {
     "name": "stdout",
     "output_type": "stream",
     "text": [
      "HolaMunro   hola_munro_1.c  hola_munro_3.c  hola_munro_5.c\n",
      "HolaMunro2  hola_munro_2.c  hola_munro_4.c  hola_munro_6.c\n"
     ]
    }
   ],
   "source": [
    "ls"
   ]
  },
  {
   "cell_type": "code",
   "execution_count": 32,
   "metadata": {},
   "outputs": [
    {
     "name": "stdout",
     "output_type": "stream",
     "text": [
      "Hola Munro\n",
      "Hola Munro\n",
      "Hola Munro\n",
      "Hola Munro\n",
      "Hola Munro\n",
      "Codigo salida: 0\n"
     ]
    }
   ],
   "source": [
    "./HolaMunro\n",
    "echo \"Codigo salida: \"$?"
   ]
  },
  {
   "cell_type": "markdown",
   "metadata": {},
   "source": [
    "### El estandar es importante\n",
    "Ciertas cosas se pueden hacer o no segun el estandar en el cual esta escrito el codigo. Por ejemplo, el codigo del ejemplo 6 no cumple con el estandar C89"
   ]
  },
  {
   "cell_type": "code",
   "execution_count": 33,
   "metadata": {},
   "outputs": [
    {
     "name": "stdout",
     "output_type": "stream",
     "text": [
      "HolaMunro2\thola_munro_2.c\thola_munro_4.c\thola_munro_6.c\n",
      "hola_munro_1.c\thola_munro_3.c\thola_munro_5.c\n"
     ]
    }
   ],
   "source": [
    "rm HolaMunro\n",
    "ls"
   ]
  },
  {
   "cell_type": "code",
   "execution_count": 34,
   "metadata": {},
   "outputs": [
    {
     "name": "stdout",
     "output_type": "stream",
     "text": [
      "./hola_munro_6.c:4:7: warning: variable declaration in for loop is a\n",
      "      C99-specific feature [-Wc99-extensions]\n",
      "        for (int i = 0; i<5; i++){\n",
      "             ^\n",
      "1 warning generated.\n"
     ]
    }
   ],
   "source": [
    "clang -Wall -Wextra -pedantic -std=c89 -o HolaMunro ./hola_munro_6.c"
   ]
  },
  {
   "cell_type": "code",
   "execution_count": 35,
   "metadata": {},
   "outputs": [
    {
     "name": "stdout",
     "output_type": "stream",
     "text": [
      "Hola Munro\n",
      "Hola Munro\n",
      "Hola Munro\n",
      "Hola Munro\n",
      "Hola Munro\n",
      "Codigo salida: 0\n"
     ]
    }
   ],
   "source": [
    "./HolaMunro\n",
    "echo \"Codigo salida: \"$?"
   ]
  },
  {
   "cell_type": "markdown",
   "metadata": {},
   "source": [
    "Nuevamente es un warning. El codigo compila y 'corre'. \n",
    "\n",
    "Los codigos que compilan con warnings pueden tener comportamiento inesperado, y por lo tanto, si bien genera un error, no es una buena practica tener codigo que compila con warnings. Uno puede forzarse a evitarlos agregando el parametro ```-Werror``` para que el compilador trate los warnings como errores:"
   ]
  },
  {
   "cell_type": "code",
   "execution_count": 36,
   "metadata": {},
   "outputs": [
    {
     "name": "stdout",
     "output_type": "stream",
     "text": [
      "./hola_munro_6.c: In function 'main':\n",
      "./hola_munro_6.c:4:2: error: 'for' loop initial declarations are only allowed in C99 or C11 mode\n",
      "  for (int i = 0; i<5; i++){\n",
      "  ^~~\n",
      "./hola_munro_6.c:4:2: note: use option -std=c99, -std=gnu99, -std=c11 or -std=gnu11 to compile your code\n"
     ]
    },
    {
     "ename": "",
     "evalue": "1",
     "output_type": "error",
     "traceback": []
    }
   ],
   "source": [
    "gcc -Wall -Wextra -pedantic -std=c89 -Werror -o HolaMunro ./hola_munro_6.c"
   ]
  },
  {
   "cell_type": "markdown",
   "metadata": {},
   "source": [
    "En este caso incluso nos indica que estandares son compatibles con nuestro codigo."
   ]
  },
  {
   "cell_type": "code",
   "execution_count": 37,
   "metadata": {
    "collapsed": true
   },
   "outputs": [],
   "source": [
    "#Limpio las cosas de mas en la carpeta\n",
    "rm HolaMunro"
   ]
  }
 ],
 "metadata": {
  "celltoolbar": "Raw Cell Format",
  "kernelspec": {
   "display_name": "Bash",
   "language": "bash",
   "name": "bash"
  },
  "language_info": {
   "codemirror_mode": "shell",
   "file_extension": ".sh",
   "mimetype": "text/x-sh",
   "name": "bash"
  }
 },
 "nbformat": 4,
 "nbformat_minor": 1
}
