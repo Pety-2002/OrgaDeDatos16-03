{
 "cells": [
  {
   "cell_type": "code",
   "execution_count": 1,
   "metadata": {
    "collapsed": false
   },
   "outputs": [],
   "source": [
    "import random\n",
    "\n",
    "class Tamagotchi:\n",
    "    \"\"\"Clase que representa a una mascota virtual o 'Tamagotchi'.\n",
    "        Juego de palabras entre tamago y tomodachi (?)\n",
    "    \"\"\"\n",
    "    \n",
    "    VALOR_INICIAL_HAMBRE = 50\n",
    "    VALOR_INICIAL_ENERGIA = 50\n",
    "    VALOR_INICIAL_FELICIDAD = 0\n",
    "    \n",
    "    GASTO_ENERGIA_JUGAR = 10\n",
    "    AUMENTO_FELICIDAD_JUGAR = 10\n",
    "    \n",
    "    GASTO_RECURSOS_HORA = 3\n",
    "    PROBABILIDAD_ENFERMAR = 0.3\n",
    "    \n",
    "    \n",
    "    def __init__(self):\n",
    "        \"\"\"Pos: Devuelve un Tamagotchi de 0 dias de vida y con la mitad de la energia y hambre\"\"\"\n",
    "        self.edad = 0\n",
    "        self.hambre = Tamagotchi.VALOR_INICIAL_HAMBRE\n",
    "        self.energia = Tamagotchi.VALOR_INICIAL_ENERGIA\n",
    "        self.felicidad = Tamagotchi.VALOR_INICIAL_FELICIDAD\n",
    "        self.enfermo = False\n",
    "        \n",
    "        \n",
    "    def __nivelar(self):\n",
    "        \"\"\"Nivela todos los atributos para que esten dentro de los margenes predefinidos\"\"\"\n",
    "        if self.hambre < 0:\n",
    "            self.hambre = 0\n",
    "            \n",
    "        if self.energia > 100:\n",
    "            self.energia = 100\n",
    "        elif self.energia < 0:\n",
    "            self.energia = 0\n",
    "            \n",
    "        if self.felicidad > 50:\n",
    "            self.felicidad = 50\n",
    "        elif self.felicidad < -50:\n",
    "            self.felicidad = -50\n",
    "            \n",
    "        \n",
    "    def jugar(self):\n",
    "        \"\"\"El Tamagotchi juega\n",
    "           Pos: La felicidad aumenta y la energia disminuye; si tenia energia suficiente\"\"\"\n",
    "        if self.energia < Tamagotchi.GASTO_ENERGIA_JUGAR:\n",
    "            return\n",
    "        \n",
    "        self.felicidad += Tamagotchi.AUMENTO_FELICIDAD_JUGAR\n",
    "        self.energia -= Tamagotchi.GASTO_ENERGIA_JUGAR\n",
    "        \n",
    "        self.__nivelar()\n",
    "\n",
    "        \n",
    "    def vivir(self,cantidad_horas = 1):\n",
    "        \"\"\"Simula \"cantidad_horas\" horas de vida de un Tamagotchi.\n",
    "           Pos: el Tamagochi aumenta su edad acorde al tiempo. Gasta sus 'recursos' acorde al tiempo \n",
    "        \"\"\"\n",
    "        self.edad += cantidad_horas / 24 #la edad esta expresada en años\n",
    "        self.hambre += cantidad_horas * Tamagotchi.GASTO_RECURSOS_HORA\n",
    "        self.energia -= cantidad_horas * Tamagotchi.GASTO_RECURSOS_HORA\n",
    "        self.felicidad -= cantidad_horas * Tamagotchi.GASTO_RECURSOS_HORA\n",
    "        self.enfermo = self.enfermo or random.random() < Tamagotchi.PROBABILIDAD_ENFERMAR\n",
    "        \n",
    "        self.__nivelar()\n",
    "     \n",
    "    \n",
    "    def esta_vivo(self):\n",
    "        \"\"\"Indica si el Tamagotchi sigue vio o no\"\"\"\n",
    "        return self.hambre < 100\n",
    "        \n",
    "        \n",
    "    def tiene_hambre(self):\n",
    "        \"\"\"Indica si el Tamagotchi tiene mas del limite aceptable de hambre\"\"\"\n",
    "        return self.hambre > 45\n",
    "    \n",
    "    \n",
    "    def esta_feliz(self):\n",
    "        \"\"\"Indica si el Tamagotchi tiene mas del limite aceptable de felicidad\"\"\"\n",
    "        return self.felicidad > 0\n",
    "    \n",
    "    \n",
    "    def esta_cansado(self):\n",
    "        \"\"\"Indica si el Tamagotchi tiene mas del limite aceptable de energia\"\"\"\n",
    "        return self.energia <= 0\n",
    "    \n",
    "    \n",
    "    def comer(self,alimento):\n",
    "        \"\"\"Alimenta al Tamagotchi con el alimento pasado como parametro\"\"\"\n",
    "        self.hambre -= alimento.obtener_valor_nutricional()\n",
    "        self.__nivelar()"
   ]
  },
  {
   "cell_type": "code",
   "execution_count": 2,
   "metadata": {
    "collapsed": false
   },
   "outputs": [
    {
     "name": "stdout",
     "output_type": "stream",
     "text": [
      "Esta feliz:  True . Esta cansado: False\n",
      "Esta feliz:  True . Esta cansado: False\n",
      "Esta feliz:  True . Esta cansado: False\n",
      "Esta feliz:  True . Esta cansado: False\n",
      "Esta feliz:  True . Esta cansado: True\n",
      "Esta feliz:  True . Esta cansado: True\n"
     ]
    }
   ],
   "source": [
    "tomodachi = Tamagotchi()\n",
    "\n",
    "for x in range(6):\n",
    "    tomodachi.jugar()\n",
    "    print(\"Esta feliz: \",tomodachi.esta_feliz(), \". Esta cansado:\",tomodachi.esta_cansado())"
   ]
  },
  {
   "cell_type": "code",
   "execution_count": 3,
   "metadata": {
    "collapsed": false
   },
   "outputs": [],
   "source": [
    "class Alimento:\n",
    "    \n",
    "    def __init__(self,nombre,valor_nutricional):\n",
    "        \"\"\" \"\"\"\n",
    "        self.nombre = nombre\n",
    "        self.valor_nutricional = valor_nutricional\n",
    "        \n",
    "    def obtener_valor_nutricional(self):\n",
    "        \"\"\" \"\"\"\n",
    "        return self.valor_nutricional"
   ]
  },
  {
   "cell_type": "code",
   "execution_count": 4,
   "metadata": {
    "collapsed": false
   },
   "outputs": [
    {
     "name": "stdout",
     "output_type": "stream",
     "text": [
      "Tiene hambre:  True\n",
      "Tiene hambre:  True\n",
      "Tiene hambre:  False\n"
     ]
    }
   ],
   "source": [
    "print(\"Tiene hambre: \",tomodachi.tiene_hambre())\n",
    "tomodachi.vivir(4)\n",
    "print(\"Tiene hambre: \",tomodachi.tiene_hambre())\n",
    "zanahoria = Alimento(\"Zanahoria\",20)\n",
    "tomodachi.comer(zanahoria)\n",
    "print(\"Tiene hambre: \",tomodachi.tiene_hambre())"
   ]
  },
  {
   "cell_type": "code",
   "execution_count": null,
   "metadata": {
    "collapsed": true
   },
   "outputs": [],
   "source": []
  }
 ],
 "metadata": {
  "kernelspec": {
   "display_name": "Python 3",
   "language": "python",
   "name": "python3"
  },
  "language_info": {
   "codemirror_mode": {
    "name": "ipython",
    "version": 3
   },
   "file_extension": ".py",
   "mimetype": "text/x-python",
   "name": "python",
   "nbconvert_exporter": "python",
   "pygments_lexer": "ipython3",
   "version": "3.5.2+"
  }
 },
 "nbformat": 4,
 "nbformat_minor": 1
}
