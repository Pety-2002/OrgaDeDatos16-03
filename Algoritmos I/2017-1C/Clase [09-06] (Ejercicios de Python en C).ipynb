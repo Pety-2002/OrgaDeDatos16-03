{
 "cells": [
  {
   "cell_type": "markdown",
   "metadata": {},
   "source": [
    "# Un tete a tete con Teté"
   ]
  },
  {
   "cell_type": "code",
   "execution_count": 1,
   "metadata": {},
   "outputs": [
    {
     "name": "stderr",
     "output_type": "stream",
     "text": []
    },
    {
     "name": "stdout",
     "output_type": "stream",
     "text": [
      "Esta en la posicion: 23"
     ]
    }
   ],
   "source": [
    "#include <stdio.h>\n",
    "\n",
    "//Constantes en C\n",
    "#define CADENA \"Un tete a tete con tete\"\n",
    "#define SUBCADENA \"te\"\n",
    "\n",
    "/*\n",
    "* Funcion que busca la ultima aparicion de una sub-cadena dada en otra cadena.\n",
    "* Devuelve la posicion donde comienza la sub-cadena, o -1 en caso de no encontrarla.\n",
    "*/\n",
    "int buscar_ultimo(char* cadena,char* subcadena); // Definicion del prototipo\n",
    "\n",
    "int buscar_ultimo(char* cadena,char* subcadena){\n",
    "    if (!cadena[0]) //Caso cadena[0]=='\\n'\n",
    "        return 0;\n",
    "    \n",
    "    int posicion = buscar_ultimo(cadena+1,subcadena);\n",
    "    \n",
    "    if (posicion > -1) //Caso ya se encontro, entonces no es el ultimo\n",
    "        return posicion + 1; //Actualizo la posicion\n",
    "    \n",
    "    int i = 0;\n",
    "    while (cadena[i] && subcadena[i] && cadena[i]==subcadena[i])\n",
    "        i++; //Busco donde dejan de ser iguales, o una se termina\n",
    "    \n",
    "    if (subcadena[i] == '\\0')\n",
    "        return 0; //Lo subcadena se termino, entonces esta\n",
    "    else\n",
    "        return -1; //No esta\n",
    "    \n",
    "    //return (subcadena[i]) ? -1 : 0 ; //Operador ternario en C\n",
    "    // <condicion> ? <si verdadero> : <si falso>\n",
    "}\n",
    "\n",
    "int main(){\n",
    "    int resultado = buscar_ultimo(CADENA,SUBCADENA);\n",
    "    printf(\"Esta en la posicion: %d\\n\",resultado);\n",
    "    return 0;\n",
    "}"
   ]
  },
  {
   "cell_type": "code",
   "execution_count": 2,
   "metadata": {},
   "outputs": [
    {
     "name": "stderr",
     "output_type": "stream",
     "text": []
    },
    {
     "name": "stdout",
     "output_type": "stream",
     "text": [
      "Esta en la posicion: 23"
     ]
    }
   ],
   "source": [
    "#include <stdio.h>\n",
    "\n",
    "//Constantes en C\n",
    "#define CADENA \"Un tete a tete con tete\"\n",
    "#define SUBCADENA \"te\"\n",
    "\n",
    "/*\n",
    "* Funcion que busca la ultima aparicion de una sub-cadena dada en otra cadena.\n",
    "* Devuelve la posicion donde comienza la sub-cadena, o -1 en caso de no encontrarla.\n",
    "*/\n",
    "int buscar_ultimo(char* cadena,char* subcadena); // Definicion del prototipo\n",
    "\n",
    "int buscar_ultimo(char* cadena,char* subcadena){\n",
    "    if (!cadena[0]) //Caso cadena[0]=='\\n'\n",
    "        return 0;\n",
    "    \n",
    "    int posicion = buscar_ultimo(cadena+1,subcadena);\n",
    "    \n",
    "    if (posicion > -1) //Caso ya se encontro, entonces no es el ultimo\n",
    "        return posicion + 1; //Actualizo la posicion\n",
    "    \n",
    "    int i = 0;\n",
    "    while (cadena[i] && subcadena[i] && cadena[i]==subcadena[i])\n",
    "        i++; //Busco donde dejan de ser iguales, o una se termina\n",
    "    \n",
    "    //if (subcadena[i] == '\\0')\n",
    "    //    return 0; //Lo subcadena se termino, entonces esta\n",
    "    //else\n",
    "    //    return -1; //No esta\n",
    "    \n",
    "    return (subcadena[i]) ? -1 : 0 ; //Operador ternario en C\n",
    "    // <condicion> ? <si verdadero> : <si falso>\n",
    "}\n",
    "\n",
    "int main(){\n",
    "    int resultado = buscar_ultimo(CADENA,SUBCADENA);\n",
    "    printf(\"Esta en la posicion: %d\\n\",resultado);\n",
    "    return 0;\n",
    "}"
   ]
  },
  {
   "cell_type": "markdown",
   "metadata": {},
   "source": [
    "# Ejercico de la nota de rescate"
   ]
  },
  {
   "cell_type": "code",
   "execution_count": 37,
   "metadata": {},
   "outputs": [
    {
     "name": "stderr",
     "output_type": "stream",
     "text": []
    },
    {
     "name": "stdout",
     "output_type": "stream",
     "text": [
      "No se puede escribir la nota: 'El parcial es el proximo viernes, estudien'\n"
     ]
    }
   ],
   "source": [
    "#include <stdio.h>\n",
    "#include <stdbool.h>\n",
    "\n",
    "#define TEXTO \"En una tarde nublada y fria, dos ninos patinaban sin preocupacion sobre una laguna congelada. De repente el hielo se rompio, y uno de ellos cayo al agua. El otro agarro una piedra y comenzo a golpear el hielo con todas sus fuerzas, hasta que logro quebrarlo y asi salvar a su amigo.\"\n",
    "#define NOTA \"El parcial es el proximo viernes, estudien\"\n",
    "#define NOTA2 \"En una laguna congelada\"\n",
    "\n",
    "bool se_puede_escribir_nota(char* texto,char* nota){\n",
    "    int contadores[256] = {0};\n",
    "    \n",
    "    int i = 0;\n",
    "    while (texto[i]){\n",
    "        contadores[ texto[i] ]++;\n",
    "        i++;\n",
    "    }\n",
    "    \n",
    "    i = 0;\n",
    "    while (nota[i]){\n",
    "        contadores[ nota[i] ]--;\n",
    "        if (contadores[ nota[i] ] < 0)\n",
    "            return false;\n",
    "        i++;\n",
    "    }\n",
    "    return true;\n",
    "}\n",
    "\n",
    "int main(){\n",
    "    bool resultado = se_puede_escribir_nota(TEXTO,NOTA);\n",
    "    if (resultado)\n",
    "        printf(\"Se puede escribir la nota: '%s'\\n\",NOTA);\n",
    "    else\n",
    "        printf(\"No se puede escribir la nota: '%s'\\n\",NOTA);\n",
    "    return 0;\n",
    "}"
   ]
  },
  {
   "cell_type": "markdown",
   "metadata": {},
   "source": [
    "### Ahora la version con pos incremento"
   ]
  },
  {
   "cell_type": "code",
   "execution_count": 36,
   "metadata": {},
   "outputs": [
    {
     "name": "stderr",
     "output_type": "stream",
     "text": []
    },
    {
     "name": "stdout",
     "output_type": "stream",
     "text": [
      "Se puede escribir la nota: 'En una laguna congelada'\n"
     ]
    }
   ],
   "source": [
    "#include <stdio.h>\n",
    "#include <stdbool.h>\n",
    "\n",
    "#define TEXTO \"En una tarde nublada y fria, dos ninos patinaban sin preocupacion sobre una laguna congelada. De repente el hielo se rompio, y uno de ellos cayo al agua. El otro agarro una piedra y comenzo a golpear el hielo con todas sus fuerzas, hasta que logro quebrarlo y asi salvar a su amigo.\"\n",
    "#define NOTA \"El parcial es el proximo viernes, estudien\"\n",
    "#define NOTA2 \"En una laguna congelada\"\n",
    "\n",
    "bool se_puede_escribir_nota(char* texto,char* nota){\n",
    "    int contadores[256] = {0};\n",
    "    \n",
    "    int i = 0;\n",
    "    while (texto[i]){\n",
    "        contadores[ texto[i++] ]++;\n",
    "    }\n",
    "    \n",
    "    i = 0;\n",
    "    while (nota[i]){\n",
    "        contadores[ nota[i] ]--;\n",
    "        if (contadores[ nota[i++] ] < 0)\n",
    "            return false;\n",
    "    }\n",
    "    return true;\n",
    "}\n",
    "\n",
    "int main(){\n",
    "    bool resultado = se_puede_escribir_nota(TEXTO,NOTA2);\n",
    "    if (resultado)\n",
    "        printf(\"Se puede escribir la nota: '%s'\\n\",NOTA2);\n",
    "    else\n",
    "        printf(\"No se puede escribir la nota: '%s'\\n\",NOTA2);\n",
    "    return 0;\n",
    "}"
   ]
  },
  {
   "cell_type": "markdown",
   "metadata": {},
   "source": [
    "# Pre y Pos incremento\n",
    "\n",
    "Incremento primero y obtengo el valor vs obtengo el valor y luego incremento. "
   ]
  },
  {
   "cell_type": "code",
   "execution_count": 30,
   "metadata": {},
   "outputs": [
    {
     "name": "stderr",
     "output_type": "stream",
     "text": []
    },
    {
     "name": "stdout",
     "output_type": "stream",
     "text": [
      "1 \n",
      "2 \n",
      "3 \n",
      "4 \n",
      "5 \n",
      "6 \n",
      "7 \n"
     ]
    }
   ],
   "source": [
    "#include <stdio.h>\n",
    "\n",
    "int main(){\n",
    "\n",
    "    int i = 0;\n",
    "    \n",
    "    printf(\"%d \\n\",++i);\n",
    "    printf(\"%d \\n\",++i);\n",
    "    printf(\"%d \\n\",++i);\n",
    "    printf(\"%d \\n\",++i);\n",
    "    printf(\"%d \\n\",++i);\n",
    "    printf(\"%d \\n\",++i);\n",
    "    printf(\"%d \\n\",++i);\n",
    "    \n",
    "    return 0;\n",
    "}"
   ]
  },
  {
   "cell_type": "code",
   "execution_count": 31,
   "metadata": {},
   "outputs": [
    {
     "name": "stderr",
     "output_type": "stream",
     "text": []
    },
    {
     "name": "stdout",
     "output_type": "stream",
     "text": [
      "0 \n",
      "1 \n",
      "2 \n",
      "3 \n",
      "4 \n",
      "5 \n",
      "6 \n"
     ]
    }
   ],
   "source": [
    "#include <stdio.h>\n",
    "\n",
    "int main(){\n",
    "\n",
    "    int i = 0;\n",
    "    \n",
    "    printf(\"%d \\n\",i++);\n",
    "    printf(\"%d \\n\",i++);\n",
    "    printf(\"%d \\n\",i++);\n",
    "    printf(\"%d \\n\",i++);\n",
    "    printf(\"%d \\n\",i++);\n",
    "    printf(\"%d \\n\",i++);\n",
    "    printf(\"%d \\n\",i++);\n",
    "    \n",
    "    return 0;\n",
    "}"
   ]
  },
  {
   "cell_type": "markdown",
   "metadata": {},
   "source": [
    "# Nota de rescate: Version aritmetica de punteros\n",
    "\n",
    "Disclaimer: No mirar si son impresionables (no les vamos a pedir que hagan nunca nada asi)"
   ]
  },
  {
   "cell_type": "code",
   "execution_count": 40,
   "metadata": {},
   "outputs": [
    {
     "name": "stderr",
     "output_type": "stream",
     "text": []
    },
    {
     "name": "stdout",
     "output_type": "stream",
     "text": [
      "No se puede escribir la nota: 'El parcial es el proximo viernes, estudien'\n",
      "Se puede escribir la nota: 'En una laguna congelada'\n"
     ]
    }
   ],
   "source": [
    "#include <stdio.h>\n",
    "#include <stdbool.h>\n",
    "\n",
    "#define TEXTO \"En una tarde nublada y fria, dos ninos patinaban sin preocupacion sobre una laguna congelada. De repente el hielo se rompio, y uno de ellos cayo al agua. El otro agarro una piedra y comenzo a golpear el hielo con todas sus fuerzas, hasta que logro quebrarlo y asi salvar a su amigo.\"\n",
    "#define NOTA \"El parcial es el proximo viernes, estudien\"\n",
    "#define NOTA2 \"En una laguna congelada\"\n",
    "\n",
    "bool se_puede_escribir_nota(char* texto,char* nota){\n",
    "    int contadores[256] = {0};\n",
    "    \n",
    "    while ( *texto ){\n",
    "        contadores[ *texto++ ]++;\n",
    "    }\n",
    "    \n",
    "    while ( *nota ){\n",
    "        contadores[ *nota ]--;\n",
    "        if (contadores[ *nota++ ] < 0)\n",
    "            return false;\n",
    "    }\n",
    "    return true;\n",
    "}\n",
    "\n",
    "int main(){\n",
    "    bool resultado = se_puede_escribir_nota(TEXTO,NOTA);\n",
    "    if (resultado)\n",
    "        printf(\"Se puede escribir la nota: '%s'\\n\",NOTA);\n",
    "    else\n",
    "        printf(\"No se puede escribir la nota: '%s'\\n\",NOTA);\n",
    "        \n",
    "    resultado = se_puede_escribir_nota(TEXTO,NOTA2);\n",
    "    if (resultado)\n",
    "        printf(\"Se puede escribir la nota: '%s'\\n\",NOTA2);\n",
    "    else\n",
    "        printf(\"No se puede escribir la nota: '%s'\\n\",NOTA2);\n",
    "        \n",
    "    return 0;\n",
    "}"
   ]
  }
 ],
 "metadata": {
  "kernelspec": {
   "display_name": "C",
   "language": "c",
   "name": "c_kernel"
  },
  "language_info": {
   "file_extension": "c",
   "mimetype": "text/plain",
   "name": "c"
  }
 },
 "nbformat": 4,
 "nbformat_minor": 2
}
