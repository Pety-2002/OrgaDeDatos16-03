{
 "cells": [
  {
   "cell_type": "code",
   "execution_count": 1,
   "metadata": {
    "collapsed": false
   },
   "outputs": [
    {
     "name": "stdout",
     "output_type": "stream",
     "text": [
      "Jugador 1, ingrese su palabra: Perro\n",
      "\u0007\u0007\u0007\n",
      "Jugador 2, ingrese su palabra: Gato\n",
      "\u0007\u0007\n",
      "Jugador 1, ingrese su palabra: Casa\n",
      "\u0007\u0007\n",
      "Jugador 2, ingrese su palabra: Esternocleidomastoideo\n",
      "\u0007\u0007\u0007\u0007\u0007\u0007\u0007\u0007\u0007\u0007\u0007\n",
      "Gano jugador 2\n"
     ]
    }
   ],
   "source": [
    "OBJETIVO = 10\n",
    "\n",
    "def es_vocal(caracter):\n",
    "    \"\"\" \"\"\"\n",
    "    \n",
    "    if len(caracter) !=1:\n",
    "        return False #No puede ser nunca\n",
    "    \n",
    "    return caracter.lower() in \"aeiou\"\n",
    "        \n",
    "    \n",
    "def contar_consonantes(palabra):\n",
    "    \"\"\" \"\"\"\n",
    "    \n",
    "    contador = 0\n",
    "    for c in palabra:\n",
    "        if not es_vocal(c):\n",
    "            contador += 1\n",
    "    return contador\n",
    "    \n",
    "    \n",
    "def principal():\n",
    "    \"\"\" \"\"\"\n",
    "    \n",
    "    contador_jugador_1 = 0\n",
    "    contador_jugador_2 = 0\n",
    "    turno = 0\n",
    "    \n",
    "    while (contador_jugador_1 < OBJETIVO) and (contador_jugador_2 < OBJETIVO):\n",
    "        numero_jugador = turno%2 + 1\n",
    "        palabra = input(\"Jugador {}, ingrese su palabra: \".format( numero_jugador ))\n",
    "        \n",
    "        if palabra.isdigit():\n",
    "            print(\"Debe ingresar una palabra, no un numero\")\n",
    "            continue\n",
    "            \n",
    "        cantidad_consonantes = contar_consonantes(palabra)\n",
    "        \n",
    "        print(\"\\a\" * cantidad_consonantes)\n",
    "        \n",
    "        if numero_jugador == 1:\n",
    "            contador_jugador_1 += cantidad_consonantes\n",
    "        else:\n",
    "            contador_jugador_2 += cantidad_consonantes\n",
    "\n",
    "        turno += 1\n",
    "            \n",
    "    if contador_jugador_1 > contador_jugador_2:\n",
    "        print(\"Gano jugador 1\")\n",
    "    else:\n",
    "        print(\"Gano jugador 2\")\n",
    "    \n",
    "    \n",
    "principal()\n"
   ]
  },
  {
   "cell_type": "code",
   "execution_count": null,
   "metadata": {
    "collapsed": true
   },
   "outputs": [],
   "source": []
  }
 ],
 "metadata": {
  "kernelspec": {
   "display_name": "Python 3",
   "language": "python",
   "name": "python3"
  },
  "language_info": {
   "codemirror_mode": {
    "name": "ipython",
    "version": 3
   },
   "file_extension": ".py",
   "mimetype": "text/x-python",
   "name": "python",
   "nbconvert_exporter": "python",
   "pygments_lexer": "ipython3",
   "version": "3.5.2+"
  }
 },
 "nbformat": 4,
 "nbformat_minor": 1
}
