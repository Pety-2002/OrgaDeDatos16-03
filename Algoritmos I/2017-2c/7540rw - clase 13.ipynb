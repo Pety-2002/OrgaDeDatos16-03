{
 "cells": [
  {
   "cell_type": "markdown",
   "metadata": {
    "deletable": true,
    "editable": true
   },
   "source": [
    "# Ejercicio 9.4 (2)\n",
    "\n",
    "Escribir una funcion que dada una ruta asociada a un archivo devuelva un diccionario que tiene la linea mas larga en la que aparece cada palabra"
   ]
  },
  {
   "cell_type": "code",
   "execution_count": null,
   "metadata": {
    "collapsed": true,
    "deletable": true,
    "editable": true
   },
   "outputs": [],
   "source": [
    "def obtener_lineas_mas_largas(ruta):\n",
    "    \"\"\"\n",
    "    Recibe una ruta asociada a un archivo\n",
    "    Devuelve un diccionario que contiene\n",
    "    como claves las palabras del archivo y como\n",
    "    valores la linea mas larga en la que aparece\n",
    "    \"\"\"\n",
    "    lineas_mas_largas = {}\n",
    "    with open(ruta) as archivo:\n",
    "        for linea in archivo:\n",
    "            for palabra in linea.split():\n",
    "                if len(lineas_mas_largas.get(palabra, \"\")) < len(linea):\n",
    "                    lineas_mas_largas[palabra] = linea\n",
    "    return lineas_mas_largas\n"
   ]
  },
  {
   "cell_type": "markdown",
   "metadata": {
    "deletable": true,
    "editable": true
   },
   "source": [
    "# Ejercicio 9.4 (3)\n",
    "\n",
    "Escribir una funcion que, dada una lista de rutas de archivos, escriba en un archivo la informacion de la línea más larga de cualquier archivo por palabra, junto con el nombre del archivo al que pertenece. Cada linea tiene que tener el formato `Palabra:Linea:Ruta`\n"
   ]
  },
  {
   "cell_type": "code",
   "execution_count": 1,
   "metadata": {
    "collapsed": true,
    "deletable": true,
    "editable": true
   },
   "outputs": [
    {
     "ename": "SyntaxError",
     "evalue": "invalid syntax (<ipython-input-1-0e1c7c89a079>, line 14)",
     "output_type": "error",
     "traceback": [
      "\u001b[0;36m  File \u001b[0;32m\"<ipython-input-1-0e1c7c89a079>\"\u001b[0;36m, line \u001b[0;32m14\u001b[0m\n\u001b[0;31m    with open(\"salida\", )\u001b[0m\n\u001b[0m                         ^\u001b[0m\n\u001b[0;31mSyntaxError\u001b[0m\u001b[0;31m:\u001b[0m invalid syntax\n"
     ]
    }
   ],
   "source": [
    "def lineas_mas_largas_en_archivos(rutas_archivos):\n",
    "    \"\"\"\n",
    "    Recibe una lista de rutas de archivos\n",
    "    Devuelve un diccionario con palabras como claves\n",
    "    y como valores una tupla con la linea mas larga \n",
    "    y el archivo al que pertenece esa linea\n",
    "    \"\"\"\n",
    "    palabras_archivos = {}\n",
    "    for ruta in rutas_archivos:\n",
    "        lineas_mas_largas = obtener_lineas_mas_largas(ruta)\n",
    "        for palabra,linea in lineas_mas_largas.items():\n",
    "            if len(linea) > len(lineas_mas_largas.get(palabra,(\"\",\"\")[0])):\n",
    "                palabras_archivos[palabra] = (linea, ruta)\n",
    "    with open(\"salida\", \"w\") as archivo_salida:\n",
    "        for pal, linea_ruta in palabras_archivos.items():\n",
    "            linea = \"{}:{}:{}\\n\".format(pal, linea_ruta[0], linea_ruta[1])\n",
    "            archivo_salida.write(linea)"
   ]
  },
  {
   "cell_type": "markdown",
   "metadata": {
    "deletable": true,
    "editable": true
   },
   "source": [
    "1. Pensar qué implicaria abrir el archivo usando \"a\" en lugar de \"w\"\n",
    "2. Cómo harian para escribir, por cada libro, todas las líneas más largas por palabra? "
   ]
  }
 ],
 "metadata": {
  "kernelspec": {
   "display_name": "Python 3",
   "language": "python",
   "name": "python3"
  },
  "language_info": {
   "codemirror_mode": {
    "name": "ipython",
    "version": 3
   },
   "file_extension": ".py",
   "mimetype": "text/x-python",
   "name": "python",
   "nbconvert_exporter": "python",
   "pygments_lexer": "ipython3",
   "version": "3.6.2"
  }
 },
 "nbformat": 4,
 "nbformat_minor": 2
}
