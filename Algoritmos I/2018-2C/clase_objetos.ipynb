{
 "cells": [
  {
   "cell_type": "markdown",
   "metadata": {},
   "source": [
    "# Clases de objetos 19 y 22 Octubre\n",
    "## Valkyria Chronicles 4\n",
    "\n",
    "![Valkyria Chronicles 4](https://github.com/Xero-Hige/Notebooks/blob/master/Algoritmos%20I/2018-2C/clase_objetos_images/a.jpg?raw=true \"Valkyria Chronicles 4\")\n",
    "\n",
    "Vimos el trailer del juego Valkyria Chronicles 4 e intentamos hacer algunas clases en base a esto. \n",
    "* [Valkyria Chronicles 4 (Launch Trailer)](https://youtu.be/COm0gNo2-T0)\n",
    "* [Valkyria Chronicles 4 (Announcement Trailer)](https://youtu.be/wO5iTkpd6wM)\n",
    "* [Valkyria Chronicles 4 (Gameplay Trailer)](https://youtu.be/RCPUiABSvCI)\n"
   ]
  },
  {
   "cell_type": "markdown",
   "metadata": {},
   "source": [
    "## Clase Soldado \n",
    "\n",
    "![Riley & Claude](https://github.com/Xero-Hige/Notebooks/blob/master/Algoritmos%20I/2018-2C/clase_objetos_images/b.jpg?raw=true \"Riley and Claude\")"
   ]
  },
  {
   "cell_type": "code",
   "execution_count": 1,
   "metadata": {},
   "outputs": [],
   "source": [
    "class Soldier:\n",
    "    \"\"\"Clase que representa a un soldado\"\"\"\n",
    "\n",
    "    def __init__(self, name):\n",
    "\n",
    "        self.name = name\n",
    "\n",
    "    def get_name(self):\n",
    "        \"\"\"Devuelve el nombre del soldado\"\"\"\n",
    "        return self.name\n",
    "\n",
    "    def __eq__(self,another):\n",
    "        return self.name == another.name"
   ]
  },
  {
   "cell_type": "markdown",
   "metadata": {},
   "source": [
    "### Pruebas"
   ]
  },
  {
   "cell_type": "code",
   "execution_count": 2,
   "metadata": {},
   "outputs": [],
   "source": [
    "alicia = Soldier(\"Alicia Melchiott\")\n",
    "alicia2 = Soldier(\"Alicia Melchiott\")\n",
    "\n",
    "welkin = Soldier(\"Welkin Gunther\")\n",
    "\n",
    "assert(alicia.get_name() == \"Alicia Melchiott\")\n",
    "assert(welkin.get_name() == \"Welkin Gunther\")\n",
    "\n",
    "assert(alicia == alicia)\n",
    "assert(alicia == alicia2)\n",
    "assert(alicia != welkin)"
   ]
  },
  {
   "cell_type": "markdown",
   "metadata": {},
   "source": [
    "## Clase Escuadron\n",
    "\n",
    "![Squad E](https://github.com/Xero-Hige/Notebooks/blob/master/Algoritmos%20I/2018-2C/clase_objetos_images/c.jpg?raw=true \"Squad E\")"
   ]
  },
  {
   "cell_type": "code",
   "execution_count": 3,
   "metadata": {},
   "outputs": [],
   "source": [
    "class Squad:\n",
    "    \"\"\"Clase que representa un escuadron de soldados\"\"\"\n",
    "\n",
    "    def __init__(self, leader):\n",
    "\n",
    "        self.leader = leader\n",
    "        self.squad = set()\n",
    "\n",
    "\n",
    "    def add_soldier(self,soldier):\n",
    "        \"\"\"Agrega un soldado al escuadron\"\"\"\n",
    "\n",
    "        if not isinstance(soldier,Soldier):\n",
    "            raise TypeError(\"El escuadron solo puede agregar soldados\")\n",
    "\n",
    "        self.squad.add(soldier)\n",
    "\n",
    "    def kick_soldier(self):\n",
    "        \"\"\"Elimina un soldado del escuadron\"\"\"\n",
    "\n",
    "        pass\n",
    "\n",
    "    def get_soldiers(self):\n",
    "        \"\"\"Devuelve todos los soldados del escuadron, formados\"\"\"\n",
    "        \n",
    "        # soldiers = [ soldier for soldier in self.squad ]\n",
    "        # soldiers.sort()\n",
    "        # return soldiers\n",
    "        return sorted(self.squad)\n",
    "\n",
    "    def get_soldiers_amount(self):\n",
    "        \"\"\" \"\"\"\n",
    "        return len(self.squad)\n"
   ]
  },
  {
   "cell_type": "markdown",
   "metadata": {},
   "source": [
    "### Pruebas"
   ]
  },
  {
   "cell_type": "code",
   "execution_count": 4,
   "metadata": {},
   "outputs": [
    {
     "ename": "TypeError",
     "evalue": "unhashable type: 'Soldier'",
     "output_type": "error",
     "traceback": [
      "\u001b[0;31m---------------------------------------------------------------------------\u001b[0m",
      "\u001b[0;31mTypeError\u001b[0m                                 Traceback (most recent call last)",
      "\u001b[0;32m<ipython-input-4-cb809c906514>\u001b[0m in \u001b[0;36m<module>\u001b[0;34m()\u001b[0m\n\u001b[1;32m      1\u001b[0m \u001b[0mescuadron\u001b[0m \u001b[0;34m=\u001b[0m \u001b[0mSquad\u001b[0m\u001b[0;34m(\u001b[0m\u001b[0mwelkin\u001b[0m\u001b[0;34m)\u001b[0m\u001b[0;34m\u001b[0m\u001b[0m\n\u001b[1;32m      2\u001b[0m \u001b[0;34m\u001b[0m\u001b[0m\n\u001b[0;32m----> 3\u001b[0;31m \u001b[0mescuadron\u001b[0m\u001b[0;34m.\u001b[0m\u001b[0madd_soldier\u001b[0m\u001b[0;34m(\u001b[0m\u001b[0malicia\u001b[0m\u001b[0;34m)\u001b[0m\u001b[0;34m\u001b[0m\u001b[0m\n\u001b[0m\u001b[1;32m      4\u001b[0m \u001b[0mescuadron\u001b[0m\u001b[0;34m.\u001b[0m\u001b[0madd_soldier\u001b[0m\u001b[0;34m(\u001b[0m\u001b[0malicia2\u001b[0m\u001b[0;34m)\u001b[0m\u001b[0;34m\u001b[0m\u001b[0m\n\u001b[1;32m      5\u001b[0m \u001b[0;34m\u001b[0m\u001b[0m\n",
      "\u001b[0;32m<ipython-input-3-ab9fc9f13c46>\u001b[0m in \u001b[0;36madd_soldier\u001b[0;34m(self, soldier)\u001b[0m\n\u001b[1;32m     14\u001b[0m             \u001b[0;32mraise\u001b[0m \u001b[0mTypeError\u001b[0m\u001b[0;34m(\u001b[0m\u001b[0;34m\"El escuadron solo puede agregar soldados\"\u001b[0m\u001b[0;34m)\u001b[0m\u001b[0;34m\u001b[0m\u001b[0m\n\u001b[1;32m     15\u001b[0m \u001b[0;34m\u001b[0m\u001b[0m\n\u001b[0;32m---> 16\u001b[0;31m         \u001b[0mself\u001b[0m\u001b[0;34m.\u001b[0m\u001b[0msquad\u001b[0m\u001b[0;34m.\u001b[0m\u001b[0madd\u001b[0m\u001b[0;34m(\u001b[0m\u001b[0msoldier\u001b[0m\u001b[0;34m)\u001b[0m\u001b[0;34m\u001b[0m\u001b[0m\n\u001b[0m\u001b[1;32m     17\u001b[0m \u001b[0;34m\u001b[0m\u001b[0m\n\u001b[1;32m     18\u001b[0m     \u001b[0;32mdef\u001b[0m \u001b[0mkick_soldier\u001b[0m\u001b[0;34m(\u001b[0m\u001b[0mself\u001b[0m\u001b[0;34m)\u001b[0m\u001b[0;34m:\u001b[0m\u001b[0;34m\u001b[0m\u001b[0m\n",
      "\u001b[0;31mTypeError\u001b[0m: unhashable type: 'Soldier'"
     ]
    }
   ],
   "source": [
    "escuadron = Squad(welkin)\n",
    "\n",
    "escuadron.add_soldier(alicia)\n",
    "escuadron.add_soldier(alicia2)\n",
    "\n",
    "assert(escuadron.get_soldiers_amount()==1)"
   ]
  },
  {
   "cell_type": "markdown",
   "metadata": {},
   "source": [
    "### Nota de clase\n",
    "\n",
    "Ayer se nos paso durante la clase notar esto. Tanto los sets como el diccionario necesitan que el objeto tenga definido el metodo magico `__hash__` para poder ser utilizados. Podemos pensar que el metodo lo que hace, es devolver \"la clave\" que representa al objeto. En este caso, por supuestos, podemos asumir que al ser los nombres unicos, podemos usar eso:"
   ]
  },
  {
   "cell_type": "code",
   "execution_count": 5,
   "metadata": {},
   "outputs": [],
   "source": [
    "class Soldier:\n",
    "    \"\"\"Clase que representa a un soldado\"\"\"\n",
    "\n",
    "    def __init__(self, name):\n",
    "\n",
    "        self.name = name\n",
    "\n",
    "    def get_name(self):\n",
    "        \"\"\"Devuelve el nombre del soldado\"\"\"\n",
    "        return self.name\n",
    "\n",
    "    def __eq__(self,another):\n",
    "        return self.name == another.name\n",
    "    \n",
    "    def __hash__(self):\n",
    "        return hash(self.name)"
   ]
  },
  {
   "cell_type": "code",
   "execution_count": 6,
   "metadata": {},
   "outputs": [],
   "source": [
    "alicia = Soldier(\"Alicia Melchiott\")\n",
    "alicia2 = Soldier(\"Alicia Melchiott\")\n",
    "\n",
    "welkin = Soldier(\"Welkin Gunther\")\n",
    "\n",
    "escuadron = Squad(welkin)\n",
    "\n",
    "escuadron.add_soldier(alicia)\n",
    "escuadron.add_soldier(alicia2)\n",
    "\n",
    "assert(escuadron.get_soldiers_amount()==1)"
   ]
  },
  {
   "cell_type": "markdown",
   "metadata": {},
   "source": [
    "## Clase Arma\n",
    "\n",
    "![Shooting](https://github.com/Xero-Hige/Notebooks/blob/master/Algoritmos%20I/2018-2C/clase_objetos_images/d.jpg?raw=true \"Rattatatata\")"
   ]
  },
  {
   "cell_type": "code",
   "execution_count": 7,
   "metadata": {},
   "outputs": [],
   "source": [
    "class Gun:\n",
    "    \"\"\"Clase que representa un arma generica\"\"\"\n",
    "    \n",
    "    SNIPER = \"Sniper\"\n",
    "    MORTAR = \"Mortar\"\n",
    "    \n",
    "    def __init__(self,name,damage,gun_type):\n",
    "        \n",
    "        self.name = name\n",
    "        self.damage = damage\n",
    "        self.gun_type = gun_type\n",
    "        \n",
    "    def attack(self,soldier):\n",
    "        \n",
    "        soldier.receive_damage(self.damage,self.gun_type)\n",
    "        \n",
    "\n",
    "import random\n",
    "        \n",
    "class Soldier:\n",
    "    \"\"\"Clase que representa a un soldado\"\"\"\n",
    "\n",
    "    def __init__(self, name,gun):\n",
    "\n",
    "        self.name = name\n",
    "        self.gun = gun\n",
    "        self.hp  =  random.randint(600,1200)\n",
    "        self.shield = random.randint(1,4)\n",
    "\n",
    "    def get_name(self):\n",
    "        \"\"\"Devuelve el nombre del soldado\"\"\"\n",
    "        return self.name\n",
    "\n",
    "    def attack(self,enemy):\n",
    "        \"\"\" \"\"\"\n",
    "        self.gun.attack(enemy)\n",
    "        \n",
    "    def receive_damage(self,damage,gun_type):\n",
    "        if gun_type == Gun.SNIPER:\n",
    "            self.hp -= damage / self.shield\n",
    "            return\n",
    "        \n",
    "        self.hp -= damage\n",
    "        \n",
    "    def __eq__(self,another):\n",
    "        return self.name == another.name\n",
    "    \n",
    "    def __hash__(self):\n",
    "        return hash(self.name)"
   ]
  },
  {
   "cell_type": "markdown",
   "metadata": {},
   "source": [
    "### Pruebas"
   ]
  },
  {
   "cell_type": "code",
   "execution_count": 8,
   "metadata": {},
   "outputs": [],
   "source": [
    "sniper_rifle = Gun(\"Mk-3\",200,Gun.SNIPER)\n",
    "mortar_launcher = Gun(\"Elias\",700,Gun.MORTAR)\n",
    "\n",
    "alicia = Soldier(\"Alicia Melchiott\",sniper_rifle)\n",
    "welkin = Soldier(\"Welkin Gunther\",mortar_launcher)\n",
    "\n",
    "alicia.attack(welkin)"
   ]
  },
  {
   "cell_type": "markdown",
   "metadata": {},
   "source": [
    "## Omake (La tarea que no hicieron...)\n",
    "\n",
    "![Omake](https://github.com/Xero-Hige/Notebooks/blob/master/Algoritmos%20I/2018-2C/clase_objetos_images/omake.png?raw=true \"Oh no, spoilers\")"
   ]
  },
  {
   "cell_type": "code",
   "execution_count": 9,
   "metadata": {},
   "outputs": [],
   "source": [
    "class Calculadora:\n",
    "    \n",
    "    def __init__(self):\n",
    "        \n",
    "        self.resultado_anterior = 0\n",
    "        \n",
    "    def sumar(self,numero_1,numero_2=None):\n",
    "        \"\"\" \"\"\"\n",
    "        \n",
    "        if numero_2 is None:\n",
    "            numero_2 = self.resultado_anterior\n",
    "            \n",
    "        self.resultado_anterior = numero_1 + numero_2\n",
    "        return self.resultado_anterior\n",
    "        \n",
    "    def restar(self,numero_1,numero_2=None):\n",
    "        \"\"\" \"\"\"\n",
    "        \n",
    "        self.resultado_anterior = - self.sumar( - numero_1,numero_2)\n",
    "        return self.resultado_anterior"
   ]
  },
  {
   "cell_type": "markdown",
   "metadata": {},
   "source": [
    "### Pruebas\n",
    "\n",
    "Queda para el lector hacer las pruebas y ver si todo funciona como debe (o no)"
   ]
  },
  {
   "cell_type": "markdown",
   "metadata": {},
   "source": [
    "## PD\n",
    "\n",
    "Armando este notebook me spoilee el final del juego. Mas les vale que aprueben todos el parcial y que el ejercicio de objetos no lo haga mal nadie -.-"
   ]
  }
 ],
 "metadata": {
  "kernelspec": {
   "display_name": "Python 3",
   "language": "python",
   "name": "python3"
  },
  "language_info": {
   "codemirror_mode": {
    "name": "ipython",
    "version": 3
   },
   "file_extension": ".py",
   "mimetype": "text/x-python",
   "name": "python",
   "nbconvert_exporter": "python",
   "pygments_lexer": "ipython3",
   "version": "3.6.6"
  }
 },
 "nbformat": 4,
 "nbformat_minor": 2
}
