{
 "cells": [
  {
   "cell_type": "code",
   "execution_count": null,
   "metadata": {
    "collapsed": true
   },
   "outputs": [],
   "source": [
    "#include <stdio.h>\n",
    "#include <signal.h>\n",
    "#include <unistd.h>\n",
    "\n",
    "int main (void){\n",
    "    printf(\"Proceso %d\\n\",getpid());\n",
    "\n",
    "    sigset_t a;\n",
    "    sigemptyset(&a);\n",
    "\n",
    "    sigaddset(&a,SIGINT);\n",
    "\n",
    "    sigprocmask(SIG_BLOCK,&a,0);\n",
    "\n",
    "    fork();\n",
    "\n",
    "    printf(\"Proceso %d\\n\",getpid());\n",
    "\n",
    "    while (1){sleep(1);}\n",
    "\n",
    "}"
   ]
  },
  {
   "cell_type": "code",
   "execution_count": 1,
   "metadata": {
    "collapsed": false
   },
   "outputs": [
    {
     "name": "stdout",
     "output_type": "stream",
     "text": [
      "1\t   cgroups\tfilesystems  kpagecgroup  pagetypeinfo\t thread-self\r\n",
      "116\t   cmdline\tfs\t     kpagecount   partitions\t timer_list\r\n",
      "12\t   consoles\tinterrupts   kpageflags   sched_debug\t timer_stats\r\n",
      "125\t   cpuinfo\tiomem\t     loadavg\t  self\t\t tty\r\n",
      "128\t   crypto\tioports      locks\t  slabinfo\t uptime\r\n",
      "23\t   devices\tirq\t     meminfo\t  softirqs\t version\r\n",
      "7\t   diskstats\tkallsyms     misc\t  stat\t\t vmallocinfo\r\n",
      "acpi\t   dma\t\tkcore\t     modules\t  swaps\t\t vmstat\r\n",
      "asound\t   driver\tkey-users    mounts\t  sys\t\t zoneinfo\r\n",
      "buddyinfo  execdomains\tkeys\t     mtrr\t  sysrq-trigger\r\n",
      "bus\t   fb\t\tkmsg\t     net\t  sysvipc\r\n"
     ]
    }
   ],
   "source": [
    "ls /proc"
   ]
  },
  {
   "cell_type": "code",
   "execution_count": 2,
   "metadata": {
    "collapsed": false
   },
   "outputs": [
    {
     "name": "stdout",
     "output_type": "stream",
     "text": [
      "[1] 129\r\n"
     ]
    }
   ],
   "source": [
    "./example &"
   ]
  },
  {
   "cell_type": "code",
   "execution_count": 3,
   "metadata": {
    "collapsed": false
   },
   "outputs": [
    {
     "name": "stdout",
     "output_type": "stream",
     "text": [
      "1\tbuddyinfo  execdomains\tkeys\t     mtrr\t   sysrq-trigger\r\n",
      "116\tbus\t   fb\t\tkmsg\t     net\t   sysvipc\r\n",
      "12\tcgroups    filesystems\tkpagecgroup  pagetypeinfo  thread-self\r\n",
      "125\tcmdline    fs\t\tkpagecount   partitions    timer_list\r\n",
      "129\tconsoles   interrupts\tkpageflags   sched_debug   timer_stats\r\n",
      "130\tcpuinfo    iomem\tloadavg      self\t   tty\r\n",
      "131\tcrypto\t   ioports\tlocks\t     slabinfo\t   uptime\r\n",
      "23\tdevices    irq\t\tmeminfo      softirqs\t   version\r\n",
      "7\tdiskstats  kallsyms\tmisc\t     stat\t   vmallocinfo\r\n",
      "acpi\tdma\t   kcore\tmodules      swaps\t   vmstat\r\n",
      "asound\tdriver\t   key-users\tmounts\t     sys\t   zoneinfo\r\n"
     ]
    }
   ],
   "source": [
    "ls /proc"
   ]
  },
  {
   "cell_type": "code",
   "execution_count": 4,
   "metadata": {
    "collapsed": false
   },
   "outputs": [
    {
     "name": "stdout",
     "output_type": "stream",
     "text": [
      "attr\t\t cwd\t   map_files   oom_adj\t      sessionid  timers\r\n",
      "autogroup\t environ   maps        oom_score      setgroups  timerslack_ns\r\n",
      "auxv\t\t exe\t   mem\t       oom_score_adj  smaps\t uid_map\r\n",
      "cgroup\t\t fd\t   mountinfo   pagemap\t      stack\t wchan\r\n",
      "clear_refs\t fdinfo    mounts      personality    stat\r\n",
      "cmdline\t\t gid_map   mountstats  projid_map     statm\r\n",
      "comm\t\t io\t   net\t       root\t      status\r\n",
      "coredump_filter  limits    ns\t       sched\t      syscall\r\n",
      "cpuset\t\t loginuid  numa_maps   schedstat      task\r\n"
     ]
    }
   ],
   "source": [
    "ls /proc/129"
   ]
  },
  {
   "cell_type": "code",
   "execution_count": 5,
   "metadata": {
    "collapsed": false
   },
   "outputs": [
    {
     "name": "stdout",
     "output_type": "stream",
     "text": [
      "Name:\texample\r\n",
      "State:\tS (sleeping)\r\n",
      "Tgid:\t129\r\n",
      "Ngid:\t0\r\n",
      "Pid:\t129\r\n",
      "PPid:\t125\r\n",
      "TracerPid:\t0\r\n",
      "Uid:\t0\t0\t0\t0\r\n",
      "Gid:\t0\t0\t0\t0\r\n",
      "FDSize:\t256\r\n",
      "Groups:\t\r\n",
      "NStgid:\t129\r\n",
      "NSpid:\t129\r\n",
      "NSpgid:\t129\r\n",
      "NSsid:\t125\r\n",
      "VmPeak:\t    4188 kB\r\n",
      "VmSize:\t    4188 kB\r\n",
      "VmLck:\t       0 kB\r\n",
      "VmPin:\t       0 kB\r\n",
      "VmHWM:\t     676 kB\r\n",
      "VmRSS:\t     676 kB\r\n",
      "RssAnon:\t      68 kB\r\n",
      "RssFile:\t     608 kB\r\n",
      "RssShmem:\t       0 kB\r\n",
      "VmData:\t     184 kB\r\n",
      "VmStk:\t     136 kB\r\n",
      "VmExe:\t       4 kB\r\n",
      "VmLib:\t    1780 kB\r\n",
      "VmPTE:\t      32 kB\r\n",
      "VmPMD:\t      12 kB\r\n",
      "VmSwap:\t       0 kB\r\n",
      "HugetlbPages:\t       0 kB\r\n",
      "Threads:\t1\r\n",
      "SigQ:\t1/31320\r\n",
      "SigPnd:\t0000000000000000\r\n",
      "ShdPnd:\t0000000000000000\r\n",
      "SigBlk:\t0000000000000002\r\n",
      "SigIgn:\t0000000001001000\r\n",
      "SigCgt:\t0000000000000000\r\n",
      "CapInh:\t00000000a80425fb\r\n",
      "CapPrm:\t00000000a80425fb\r\n",
      "CapEff:\t00000000a80425fb\r\n",
      "CapBnd:\t00000000a80425fb\r\n",
      "CapAmb:\t0000000000000000\r\n",
      "Seccomp:\t0\r\n",
      "Cpus_allowed:\tff\r\n",
      "Cpus_allowed_list:\t0-7\r\n",
      "Mems_allowed:\t00000000,00000001\r\n",
      "Mems_allowed_list:\t0\r\n",
      "voluntary_ctxt_switches:\t27\r\n",
      "nonvoluntary_ctxt_switches:\t1\r\n"
     ]
    }
   ],
   "source": [
    "cat /proc/129/status"
   ]
  },
  {
   "cell_type": "code",
   "execution_count": 6,
   "metadata": {
    "collapsed": false
   },
   "outputs": [
    {
     "name": "stdout",
     "output_type": "stream",
     "text": [
      "Name:\texample\r\n",
      "State:\tS (sleeping)\r\n",
      "Tgid:\t130\r\n",
      "Ngid:\t0\r\n",
      "Pid:\t130\r\n",
      "PPid:\t129\r\n",
      "TracerPid:\t0\r\n",
      "Uid:\t0\t0\t0\t0\r\n",
      "Gid:\t0\t0\t0\t0\r\n",
      "FDSize:\t64\r\n",
      "Groups:\t\r\n",
      "NStgid:\t130\r\n",
      "NSpid:\t130\r\n",
      "NSpgid:\t129\r\n",
      "NSsid:\t125\r\n",
      "VmPeak:\t    4188 kB\r\n",
      "VmSize:\t    4188 kB\r\n",
      "VmLck:\t       0 kB\r\n",
      "VmPin:\t       0 kB\r\n",
      "VmHWM:\t      80 kB\r\n",
      "VmRSS:\t      80 kB\r\n",
      "RssAnon:\t      80 kB\r\n",
      "RssFile:\t       0 kB\r\n",
      "RssShmem:\t       0 kB\r\n",
      "VmData:\t     184 kB\r\n",
      "VmStk:\t     136 kB\r\n",
      "VmExe:\t       4 kB\r\n",
      "VmLib:\t    1780 kB\r\n",
      "VmPTE:\t      32 kB\r\n",
      "VmPMD:\t      12 kB\r\n",
      "VmSwap:\t       0 kB\r\n",
      "HugetlbPages:\t       0 kB\r\n",
      "Threads:\t1\r\n",
      "SigQ:\t1/31320\r\n",
      "SigPnd:\t0000000000000000\r\n",
      "ShdPnd:\t0000000000000000\r\n",
      "SigBlk:\t0000000000000002\r\n",
      "SigIgn:\t0000000001001000\r\n",
      "SigCgt:\t0000000000000000\r\n",
      "CapInh:\t00000000a80425fb\r\n",
      "CapPrm:\t00000000a80425fb\r\n",
      "CapEff:\t00000000a80425fb\r\n",
      "CapBnd:\t00000000a80425fb\r\n",
      "CapAmb:\t0000000000000000\r\n",
      "Seccomp:\t0\r\n",
      "Cpus_allowed:\tff\r\n",
      "Cpus_allowed_list:\t0-7\r\n",
      "Mems_allowed:\t00000000,00000001\r\n",
      "Mems_allowed_list:\t0\r\n",
      "voluntary_ctxt_switches:\t30\r\n",
      "nonvoluntary_ctxt_switches:\t0\r\n"
     ]
    }
   ],
   "source": [
    "cat /proc/130/status"
   ]
  }
 ],
 "metadata": {
  "kernelspec": {
   "display_name": "C",
   "language": "c",
   "name": "c_kernel"
  },
  "language_info": {
   "file_extension": "c",
   "mimetype": "text/plain",
   "name": "c"
  }
 },
 "nbformat": 4,
 "nbformat_minor": 1
}
